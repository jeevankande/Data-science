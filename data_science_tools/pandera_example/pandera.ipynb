{
 "cells": [
  {
   "cell_type": "code",
   "execution_count": null,
   "id": "fb1ddc46",
   "metadata": {
    "ExecuteTime": {
     "end_time": "2022-03-25T18:25:44.708196Z",
     "start_time": "2022-03-25T18:25:41.488504Z"
    }
   },
   "outputs": [],
   "source": [
    "!pip install pandera ipytest"
   ]
  },
  {
   "cell_type": "markdown",
   "id": "cc7b5ade",
   "metadata": {},
   "source": [
    "# Introduction"
   ]
  },
  {
   "cell_type": "code",
   "execution_count": 4,
   "id": "2ef1fb81",
   "metadata": {
    "ExecuteTime": {
     "end_time": "2022-03-25T18:31:14.257662Z",
     "start_time": "2022-03-25T18:31:14.249575Z"
    }
   },
   "outputs": [
    {
     "data": {
      "text/html": [
       "<div>\n",
       "<style scoped>\n",
       "    .dataframe tbody tr th:only-of-type {\n",
       "        vertical-align: middle;\n",
       "    }\n",
       "\n",
       "    .dataframe tbody tr th {\n",
       "        vertical-align: top;\n",
       "    }\n",
       "\n",
       "    .dataframe thead th {\n",
       "        text-align: right;\n",
       "    }\n",
       "</style>\n",
       "<table border=\"1\" class=\"dataframe\">\n",
       "  <thead>\n",
       "    <tr style=\"text-align: right;\">\n",
       "      <th></th>\n",
       "      <th>name</th>\n",
       "      <th>store</th>\n",
       "      <th>price</th>\n",
       "    </tr>\n",
       "  </thead>\n",
       "  <tbody>\n",
       "    <tr>\n",
       "      <th>0</th>\n",
       "      <td>apple</td>\n",
       "      <td>Aldi</td>\n",
       "      <td>2</td>\n",
       "    </tr>\n",
       "    <tr>\n",
       "      <th>1</th>\n",
       "      <td>banana</td>\n",
       "      <td>Walmart</td>\n",
       "      <td>1</td>\n",
       "    </tr>\n",
       "    <tr>\n",
       "      <th>2</th>\n",
       "      <td>apple</td>\n",
       "      <td>Walmart</td>\n",
       "      <td>3</td>\n",
       "    </tr>\n",
       "    <tr>\n",
       "      <th>3</th>\n",
       "      <td>orange</td>\n",
       "      <td>Aldi</td>\n",
       "      <td>4</td>\n",
       "    </tr>\n",
       "  </tbody>\n",
       "</table>\n",
       "</div>"
      ],
      "text/plain": [
       "     name    store  price\n",
       "0   apple     Aldi      2\n",
       "1  banana  Walmart      1\n",
       "2   apple  Walmart      3\n",
       "3  orange     Aldi      4"
      ]
     },
     "execution_count": 4,
     "metadata": {},
     "output_type": "execute_result"
    }
   ],
   "source": [
    "import pandas as pd\n",
    "\n",
    "fruits = pd.DataFrame(\n",
    "    {\n",
    "        \"name\": [\"apple\", \"banana\", \"apple\", \"orange\"],\n",
    "        \"store\": [\"Aldi\", \"Walmart\", \"Walmart\", \"Aldi\"],\n",
    "        \"price\": [2, 1, 3, 4],\n",
    "    }\n",
    ")\n",
    "\n",
    "fruits"
   ]
  },
  {
   "cell_type": "code",
   "execution_count": null,
   "id": "551e8ffb",
   "metadata": {
    "ExecuteTime": {
     "end_time": "2022-03-25T18:31:14.658417Z",
     "start_time": "2022-03-25T18:31:14.485803Z"
    }
   },
   "outputs": [],
   "source": [
    "import pandera as pa\n",
    "from pandera import Column, Check\n",
    "\n",
    "available_fruits = [\"apple\", \"banana\", \"orange\"]\n",
    "nearby_stores = [\"Aldi\", \"Walmart\"]\n",
    "schema = pa.DataFrameSchema(\n",
    "    {\n",
    "        \"name\": Column(str, Check.isin(available_fruits)),\n",
    "        \"store\": Column(str, Check.isin(nearby_stores)),\n",
    "        \"price\": Column(int, Check.less_than(4)),\n",
    "    }\n",
    ")\n",
    "schema.validate(fruits)"
   ]
  },
  {
   "cell_type": "code",
   "execution_count": 6,
   "id": "407ac593",
   "metadata": {
    "ExecuteTime": {
     "end_time": "2022-03-25T18:31:14.786395Z",
     "start_time": "2022-03-25T18:31:14.771140Z"
    }
   },
   "outputs": [
    {
     "data": {
      "text/html": [
       "<div>\n",
       "<style scoped>\n",
       "    .dataframe tbody tr th:only-of-type {\n",
       "        vertical-align: middle;\n",
       "    }\n",
       "\n",
       "    .dataframe tbody tr th {\n",
       "        vertical-align: top;\n",
       "    }\n",
       "\n",
       "    .dataframe thead th {\n",
       "        text-align: right;\n",
       "    }\n",
       "</style>\n",
       "<table border=\"1\" class=\"dataframe\">\n",
       "  <thead>\n",
       "    <tr style=\"text-align: right;\">\n",
       "      <th></th>\n",
       "      <th>name</th>\n",
       "      <th>store</th>\n",
       "      <th>price</th>\n",
       "    </tr>\n",
       "  </thead>\n",
       "  <tbody>\n",
       "    <tr>\n",
       "      <th>0</th>\n",
       "      <td>apple</td>\n",
       "      <td>Aldi</td>\n",
       "      <td>2</td>\n",
       "    </tr>\n",
       "    <tr>\n",
       "      <th>1</th>\n",
       "      <td>banana</td>\n",
       "      <td>Walmart</td>\n",
       "      <td>1</td>\n",
       "    </tr>\n",
       "    <tr>\n",
       "      <th>2</th>\n",
       "      <td>apple</td>\n",
       "      <td>Walmart</td>\n",
       "      <td>3</td>\n",
       "    </tr>\n",
       "    <tr>\n",
       "      <th>3</th>\n",
       "      <td>orange</td>\n",
       "      <td>Aldi</td>\n",
       "      <td>4</td>\n",
       "    </tr>\n",
       "  </tbody>\n",
       "</table>\n",
       "</div>"
      ],
      "text/plain": [
       "     name    store  price\n",
       "0   apple     Aldi      2\n",
       "1  banana  Walmart      1\n",
       "2   apple  Walmart      3\n",
       "3  orange     Aldi      4"
      ]
     },
     "execution_count": 6,
     "metadata": {},
     "output_type": "execute_result"
    }
   ],
   "source": [
    "schema = pa.DataFrameSchema(\n",
    "    {\n",
    "        \"name\": Column(str, Check.isin(available_fruits)),\n",
    "        \"store\": Column(str, Check.isin(nearby_stores)),\n",
    "        \"price\": Column(int, Check.less_than(5)),\n",
    "    }\n",
    ")\n",
    "schema.validate(fruits)"
   ]
  },
  {
   "cell_type": "code",
   "execution_count": 10,
   "id": "737b2ac9",
   "metadata": {
    "ExecuteTime": {
     "end_time": "2022-03-25T18:49:54.579171Z",
     "start_time": "2022-03-25T18:49:54.552021Z"
    }
   },
   "outputs": [
    {
     "data": {
      "text/html": [
       "<div>\n",
       "<style scoped>\n",
       "    .dataframe tbody tr th:only-of-type {\n",
       "        vertical-align: middle;\n",
       "    }\n",
       "\n",
       "    .dataframe tbody tr th {\n",
       "        vertical-align: top;\n",
       "    }\n",
       "\n",
       "    .dataframe thead th {\n",
       "        text-align: right;\n",
       "    }\n",
       "</style>\n",
       "<table border=\"1\" class=\"dataframe\">\n",
       "  <thead>\n",
       "    <tr style=\"text-align: right;\">\n",
       "      <th></th>\n",
       "      <th>name</th>\n",
       "      <th>store</th>\n",
       "      <th>price</th>\n",
       "    </tr>\n",
       "  </thead>\n",
       "  <tbody>\n",
       "    <tr>\n",
       "      <th>0</th>\n",
       "      <td>apple</td>\n",
       "      <td>Aldi</td>\n",
       "      <td>2</td>\n",
       "    </tr>\n",
       "    <tr>\n",
       "      <th>1</th>\n",
       "      <td>banana</td>\n",
       "      <td>Walmart</td>\n",
       "      <td>1</td>\n",
       "    </tr>\n",
       "    <tr>\n",
       "      <th>2</th>\n",
       "      <td>apple</td>\n",
       "      <td>Walmart</td>\n",
       "      <td>3</td>\n",
       "    </tr>\n",
       "    <tr>\n",
       "      <th>3</th>\n",
       "      <td>orange</td>\n",
       "      <td>Aldi</td>\n",
       "      <td>4</td>\n",
       "    </tr>\n",
       "  </tbody>\n",
       "</table>\n",
       "</div>"
      ],
      "text/plain": [
       "     name    store  price\n",
       "0   apple     Aldi      2\n",
       "1  banana  Walmart      1\n",
       "2   apple  Walmart      3\n",
       "3  orange     Aldi      4"
      ]
     },
     "execution_count": 10,
     "metadata": {},
     "output_type": "execute_result"
    },
    {
     "data": {
      "application/javascript": [
       "\n",
       "            setTimeout(function() {\n",
       "                var nbb_cell_id = 10;\n",
       "                var nbb_unformatted_code = \"schema = pa.DataFrameSchema(\\n    {\\n        \\\"name\\\": Column(str, Check.isin(available_fruits)),\\n        \\\"store\\\": Column(str, Check.isin(nearby_stores)),\\n        \\\"price\\\": Column(int, [Check.less_than(5), Check(lambda price: sum(price) < 20)]),\\n    }\\n)\\nschema.validate(fruits)\";\n",
       "                var nbb_formatted_code = \"schema = pa.DataFrameSchema(\\n    {\\n        \\\"name\\\": Column(str, Check.isin(available_fruits)),\\n        \\\"store\\\": Column(str, Check.isin(nearby_stores)),\\n        \\\"price\\\": Column(\\n            int, [Check.less_than(5), Check(lambda price: sum(price) < 20)]\\n        ),\\n    }\\n)\\nschema.validate(fruits)\";\n",
       "                var nbb_cells = Jupyter.notebook.get_cells();\n",
       "                for (var i = 0; i < nbb_cells.length; ++i) {\n",
       "                    if (nbb_cells[i].input_prompt_number == nbb_cell_id) {\n",
       "                        if (nbb_cells[i].get_text() == nbb_unformatted_code) {\n",
       "                             nbb_cells[i].set_text(nbb_formatted_code);\n",
       "                        }\n",
       "                        break;\n",
       "                    }\n",
       "                }\n",
       "            }, 500);\n",
       "            "
      ],
      "text/plain": [
       "<IPython.core.display.Javascript object>"
      ]
     },
     "metadata": {},
     "output_type": "display_data"
    }
   ],
   "source": [
    "schema = pa.DataFrameSchema(\n",
    "    {\n",
    "        \"name\": Column(str, Check.isin(available_fruits)),\n",
    "        \"store\": Column(str, Check.isin(nearby_stores)),\n",
    "        \"price\": Column(\n",
    "            int, [Check.less_than(5), Check(lambda price: sum(price) < 20)]\n",
    "        ),\n",
    "    }\n",
    ")\n",
    "schema.validate(fruits)"
   ]
  },
  {
   "cell_type": "markdown",
   "id": "96cfe159",
   "metadata": {},
   "source": [
    "# Schema Model"
   ]
  },
  {
   "cell_type": "code",
   "execution_count": 23,
   "id": "fade9cb7",
   "metadata": {
    "ExecuteTime": {
     "end_time": "2022-03-25T15:19:35.217228Z",
     "start_time": "2022-03-25T15:19:35.148216Z"
    }
   },
   "outputs": [
    {
     "data": {
      "text/html": [
       "<div>\n",
       "<style scoped>\n",
       "    .dataframe tbody tr th:only-of-type {\n",
       "        vertical-align: middle;\n",
       "    }\n",
       "\n",
       "    .dataframe tbody tr th {\n",
       "        vertical-align: top;\n",
       "    }\n",
       "\n",
       "    .dataframe thead th {\n",
       "        text-align: right;\n",
       "    }\n",
       "</style>\n",
       "<table border=\"1\" class=\"dataframe\">\n",
       "  <thead>\n",
       "    <tr style=\"text-align: right;\">\n",
       "      <th></th>\n",
       "      <th>name</th>\n",
       "      <th>store</th>\n",
       "      <th>price</th>\n",
       "    </tr>\n",
       "  </thead>\n",
       "  <tbody>\n",
       "    <tr>\n",
       "      <th>0</th>\n",
       "      <td>apple</td>\n",
       "      <td>Aldi</td>\n",
       "      <td>2</td>\n",
       "    </tr>\n",
       "    <tr>\n",
       "      <th>1</th>\n",
       "      <td>banana</td>\n",
       "      <td>Walmart</td>\n",
       "      <td>1</td>\n",
       "    </tr>\n",
       "    <tr>\n",
       "      <th>2</th>\n",
       "      <td>apple</td>\n",
       "      <td>Walmart</td>\n",
       "      <td>3</td>\n",
       "    </tr>\n",
       "    <tr>\n",
       "      <th>3</th>\n",
       "      <td>orange</td>\n",
       "      <td>Aldi</td>\n",
       "      <td>4</td>\n",
       "    </tr>\n",
       "  </tbody>\n",
       "</table>\n",
       "</div>"
      ],
      "text/plain": [
       "     name    store  price\n",
       "0   apple     Aldi      2\n",
       "1  banana  Walmart      1\n",
       "2   apple  Walmart      3\n",
       "3  orange     Aldi      4"
      ]
     },
     "execution_count": 23,
     "metadata": {},
     "output_type": "execute_result"
    },
    {
     "data": {
      "application/javascript": [
       "\n",
       "            setTimeout(function() {\n",
       "                var nbb_cell_id = 23;\n",
       "                var nbb_unformatted_code = \"from pandera.typing import Series\\n\\n\\nclass Schema(pa.SchemaModel):\\n    name: Series[str] = pa.Field(isin=available_fruits)\\n    store: Series[str] = pa.Field(isin=nearby_stores)\\n    price: Series[int] = pa.Field(le=5)\\n    \\n    @pa.check(\\\"price\\\")\\n    def price_sum_lt_20(cls, price: Series[int]) -> Series[bool]:\\n        return sum(price) < 20\\n\\nSchema.validate(fruits)\";\n",
       "                var nbb_formatted_code = \"from pandera.typing import Series\\n\\n\\nclass Schema(pa.SchemaModel):\\n    name: Series[str] = pa.Field(isin=available_fruits)\\n    store: Series[str] = pa.Field(isin=nearby_stores)\\n    price: Series[int] = pa.Field(le=5)\\n\\n    @pa.check(\\\"price\\\")\\n    def price_sum_lt_20(cls, price: Series[int]) -> Series[bool]:\\n        return sum(price) < 20\\n\\n\\nSchema.validate(fruits)\";\n",
       "                var nbb_cells = Jupyter.notebook.get_cells();\n",
       "                for (var i = 0; i < nbb_cells.length; ++i) {\n",
       "                    if (nbb_cells[i].input_prompt_number == nbb_cell_id) {\n",
       "                        if (nbb_cells[i].get_text() == nbb_unformatted_code) {\n",
       "                             nbb_cells[i].set_text(nbb_formatted_code);\n",
       "                        }\n",
       "                        break;\n",
       "                    }\n",
       "                }\n",
       "            }, 500);\n",
       "            "
      ],
      "text/plain": [
       "<IPython.core.display.Javascript object>"
      ]
     },
     "metadata": {},
     "output_type": "display_data"
    }
   ],
   "source": [
    "from pandera.typing import Series\n",
    "\n",
    "\n",
    "class Schema(pa.SchemaModel):\n",
    "    name: Series[str] = pa.Field(isin=available_fruits)\n",
    "    store: Series[str] = pa.Field(isin=nearby_stores)\n",
    "    price: Series[int] = pa.Field(le=5)\n",
    "\n",
    "    @pa.check(\"price\")\n",
    "    def price_sum_lt_20(cls, price: Series[int]) -> Series[bool]:\n",
    "        return sum(price) < 20\n",
    "\n",
    "\n",
    "Schema.validate(fruits)"
   ]
  },
  {
   "cell_type": "markdown",
   "id": "a79cccf4",
   "metadata": {},
   "source": [
    "# Validation Decorator "
   ]
  },
  {
   "cell_type": "markdown",
   "id": "01b25cd1",
   "metadata": {},
   "source": [
    "## Check Input"
   ]
  },
  {
   "cell_type": "code",
   "execution_count": 15,
   "id": "02a75aa4",
   "metadata": {
    "ExecuteTime": {
     "end_time": "2022-03-25T19:05:53.414458Z",
     "start_time": "2022-03-25T19:05:53.282131Z"
    }
   },
   "outputs": [
    {
     "data": {
      "application/javascript": [
       "\n",
       "            setTimeout(function() {\n",
       "                var nbb_cell_id = 15;\n",
       "                var nbb_unformatted_code = \"import ipytest\\nipytest.autoconfig()\";\n",
       "                var nbb_formatted_code = \"import ipytest\\n\\nipytest.autoconfig()\";\n",
       "                var nbb_cells = Jupyter.notebook.get_cells();\n",
       "                for (var i = 0; i < nbb_cells.length; ++i) {\n",
       "                    if (nbb_cells[i].input_prompt_number == nbb_cell_id) {\n",
       "                        if (nbb_cells[i].get_text() == nbb_unformatted_code) {\n",
       "                             nbb_cells[i].set_text(nbb_formatted_code);\n",
       "                        }\n",
       "                        break;\n",
       "                    }\n",
       "                }\n",
       "            }, 500);\n",
       "            "
      ],
      "text/plain": [
       "<IPython.core.display.Javascript object>"
      ]
     },
     "metadata": {},
     "output_type": "display_data"
    }
   ],
   "source": [
    "import ipytest\n",
    "\n",
    "ipytest.autoconfig()"
   ]
  },
  {
   "cell_type": "code",
   "execution_count": 27,
   "id": "05df26e0",
   "metadata": {
    "ExecuteTime": {
     "end_time": "2022-03-25T19:11:03.309250Z",
     "start_time": "2022-03-25T19:11:03.283422Z"
    }
   },
   "outputs": [
    {
     "data": {
      "text/plain": [
       "10"
      ]
     },
     "execution_count": 27,
     "metadata": {},
     "output_type": "execute_result"
    },
    {
     "data": {
      "application/javascript": [
       "\n",
       "            setTimeout(function() {\n",
       "                var nbb_cell_id = 27;\n",
       "                var nbb_unformatted_code = \"fruits = pd.DataFrame(\\n    {\\n        \\\"name\\\": [\\\"apple\\\", \\\"banana\\\", \\\"apple\\\", \\\"orange\\\"],\\n        \\\"store\\\": [\\\"Aldi\\\", \\\"Walmart\\\", \\\"Walmart\\\", \\\"Aldi\\\"],\\n        \\\"price\\\": [2, 1, 3, 4],\\n    }\\n)\\n\\nschema = pa.DataFrameSchema(\\n    {\\n        \\\"name\\\": Column(str, Check.isin(available_fruits)),\\n        \\\"store\\\": Column(str, Check.isin(nearby_stores)),\\n        \\\"price\\\": Column(int, Check.less_than(5)),\\n    }\\n)\\n\\n\\ndef get_total_price(fruits: pd.DataFrame, schema: pa.DataFrameSchema):\\n    validated = schema.validate(fruits)\\n    return validated[\\\"price\\\"].sum()\\n\\n\\nget_total_price(fruits, schema)\";\n",
       "                var nbb_formatted_code = \"fruits = pd.DataFrame(\\n    {\\n        \\\"name\\\": [\\\"apple\\\", \\\"banana\\\", \\\"apple\\\", \\\"orange\\\"],\\n        \\\"store\\\": [\\\"Aldi\\\", \\\"Walmart\\\", \\\"Walmart\\\", \\\"Aldi\\\"],\\n        \\\"price\\\": [2, 1, 3, 4],\\n    }\\n)\\n\\nschema = pa.DataFrameSchema(\\n    {\\n        \\\"name\\\": Column(str, Check.isin(available_fruits)),\\n        \\\"store\\\": Column(str, Check.isin(nearby_stores)),\\n        \\\"price\\\": Column(int, Check.less_than(5)),\\n    }\\n)\\n\\n\\ndef get_total_price(fruits: pd.DataFrame, schema: pa.DataFrameSchema):\\n    validated = schema.validate(fruits)\\n    return validated[\\\"price\\\"].sum()\\n\\n\\nget_total_price(fruits, schema)\";\n",
       "                var nbb_cells = Jupyter.notebook.get_cells();\n",
       "                for (var i = 0; i < nbb_cells.length; ++i) {\n",
       "                    if (nbb_cells[i].input_prompt_number == nbb_cell_id) {\n",
       "                        if (nbb_cells[i].get_text() == nbb_unformatted_code) {\n",
       "                             nbb_cells[i].set_text(nbb_formatted_code);\n",
       "                        }\n",
       "                        break;\n",
       "                    }\n",
       "                }\n",
       "            }, 500);\n",
       "            "
      ],
      "text/plain": [
       "<IPython.core.display.Javascript object>"
      ]
     },
     "metadata": {},
     "output_type": "display_data"
    }
   ],
   "source": [
    "fruits = pd.DataFrame(\n",
    "    {\n",
    "        \"name\": [\"apple\", \"banana\", \"apple\", \"orange\"],\n",
    "        \"store\": [\"Aldi\", \"Walmart\", \"Walmart\", \"Aldi\"],\n",
    "        \"price\": [2, 1, 3, 4],\n",
    "    }\n",
    ")\n",
    "\n",
    "schema = pa.DataFrameSchema(\n",
    "    {\n",
    "        \"name\": Column(str, Check.isin(available_fruits)),\n",
    "        \"store\": Column(str, Check.isin(nearby_stores)),\n",
    "        \"price\": Column(int, Check.less_than(5)),\n",
    "    }\n",
    ")\n",
    "\n",
    "\n",
    "def get_total_price(fruits: pd.DataFrame, schema: pa.DataFrameSchema):\n",
    "    validated = schema.validate(fruits)\n",
    "    return validated[\"price\"].sum()\n",
    "\n",
    "\n",
    "get_total_price(fruits, schema)"
   ]
  },
  {
   "cell_type": "code",
   "execution_count": 28,
   "id": "a3e6b055",
   "metadata": {
    "ExecuteTime": {
     "end_time": "2022-03-25T19:11:03.765825Z",
     "start_time": "2022-03-25T19:11:03.672303Z"
    },
    "code_folding": []
   },
   "outputs": [
    {
     "data": {
      "application/javascript": [
       "\n",
       "            setTimeout(function() {\n",
       "                var nbb_cell_id = 28;\n",
       "                var nbb_unformatted_code = \"%%ipytest -qq\\ndef test_get_total_price():\\n    fruits = pd.DataFrame({'name': ['apple', 'banana'], 'store': ['Aldi', 'Walmart'], 'price': [1, 2]})\\n    \\n    schema = pa.DataFrameSchema(\\n        {\\n            \\\"name\\\": Column(str, Check.isin(available_fruits)),\\n            \\\"store\\\": Column(str, Check.isin(nearby_stores)),\\n            \\\"price\\\": Column(int, Check.less_than(5)),\\n        }\\n    )\\n    assert get_total_price(fruits, schema) == 3\";\n",
       "                var nbb_formatted_code = \"%%ipytest -qq\\ndef test_get_total_price():\\n    fruits = pd.DataFrame({'name': ['apple', 'banana'], 'store': ['Aldi', 'Walmart'], 'price': [1, 2]})\\n    \\n    schema = pa.DataFrameSchema(\\n        {\\n            \\\"name\\\": Column(str, Check.isin(available_fruits)),\\n            \\\"store\\\": Column(str, Check.isin(nearby_stores)),\\n            \\\"price\\\": Column(int, Check.less_than(5)),\\n        }\\n    )\\n    assert get_total_price(fruits, schema) == 3\";\n",
       "                var nbb_cells = Jupyter.notebook.get_cells();\n",
       "                for (var i = 0; i < nbb_cells.length; ++i) {\n",
       "                    if (nbb_cells[i].input_prompt_number == nbb_cell_id) {\n",
       "                        if (nbb_cells[i].get_text() == nbb_unformatted_code) {\n",
       "                             nbb_cells[i].set_text(nbb_formatted_code);\n",
       "                        }\n",
       "                        break;\n",
       "                    }\n",
       "                }\n",
       "            }, 500);\n",
       "            "
      ],
      "text/plain": [
       "<IPython.core.display.Javascript object>"
      ]
     },
     "metadata": {},
     "output_type": "display_data"
    },
    {
     "name": "stdout",
     "output_type": "stream",
     "text": [
      "\u001b[32m.\u001b[0m\u001b[32m                                                                                            [100%]\u001b[0m\n"
     ]
    },
    {
     "data": {
      "application/javascript": [
       "\n",
       "            setTimeout(function() {\n",
       "                var nbb_cell_id = 28;\n",
       "                var nbb_unformatted_code = \"%%ipytest -qq\\ndef test_get_total_price():\\n    fruits = pd.DataFrame({'name': ['apple', 'banana'], 'store': ['Aldi', 'Walmart'], 'price': [1, 2]})\\n    \\n    schema = pa.DataFrameSchema(\\n        {\\n            \\\"name\\\": Column(str, Check.isin(available_fruits)),\\n            \\\"store\\\": Column(str, Check.isin(nearby_stores)),\\n            \\\"price\\\": Column(int, Check.less_than(5)),\\n        }\\n    )\\n    assert get_total_price(fruits, schema) == 3\";\n",
       "                var nbb_formatted_code = \"%%ipytest -qq\\ndef test_get_total_price():\\n    fruits = pd.DataFrame({'name': ['apple', 'banana'], 'store': ['Aldi', 'Walmart'], 'price': [1, 2]})\\n    \\n    schema = pa.DataFrameSchema(\\n        {\\n            \\\"name\\\": Column(str, Check.isin(available_fruits)),\\n            \\\"store\\\": Column(str, Check.isin(nearby_stores)),\\n            \\\"price\\\": Column(int, Check.less_than(5)),\\n        }\\n    )\\n    assert get_total_price(fruits, schema) == 3\";\n",
       "                var nbb_cells = Jupyter.notebook.get_cells();\n",
       "                for (var i = 0; i < nbb_cells.length; ++i) {\n",
       "                    if (nbb_cells[i].input_prompt_number == nbb_cell_id) {\n",
       "                        if (nbb_cells[i].get_text() == nbb_unformatted_code) {\n",
       "                             nbb_cells[i].set_text(nbb_formatted_code);\n",
       "                        }\n",
       "                        break;\n",
       "                    }\n",
       "                }\n",
       "            }, 500);\n",
       "            "
      ],
      "text/plain": [
       "<IPython.core.display.Javascript object>"
      ]
     },
     "metadata": {},
     "output_type": "display_data"
    }
   ],
   "source": [
    "%%ipytest -qq\n",
    "def test_get_total_price():\n",
    "    fruits = pd.DataFrame({'name': ['apple', 'banana'], 'store': ['Aldi', 'Walmart'], 'price': [1, 2]})\n",
    "    \n",
    "    schema = pa.DataFrameSchema(\n",
    "        {\n",
    "            \"name\": Column(str, Check.isin(available_fruits)),\n",
    "            \"store\": Column(str, Check.isin(nearby_stores)),\n",
    "            \"price\": Column(int, Check.less_than(5)),\n",
    "        }\n",
    "    )\n",
    "    assert get_total_price(fruits, schema) == 3"
   ]
  },
  {
   "cell_type": "code",
   "execution_count": null,
   "id": "f4fe5959",
   "metadata": {
    "ExecuteTime": {
     "end_time": "2022-03-25T19:17:18.886164Z",
     "start_time": "2022-03-25T19:17:18.616689Z"
    }
   },
   "outputs": [],
   "source": [
    "from pandera import check_input, check_output, check_io\n",
    "\n",
    "fruits = pd.DataFrame(\n",
    "    {\n",
    "        \"name\": [\"apple\", \"banana\", \"apple\", \"orange\"],\n",
    "        \"store\": [\"Aldi\", \"Walmart\", \"Walmart\", \"Aldi\"],\n",
    "        \"price\": [\"2\", \"1\", \"3\", \"4\"],\n",
    "    }\n",
    ")\n",
    "\n",
    "\n",
    "@check_input(schema)\n",
    "def get_total_price(fruits: pd.DataFrame):\n",
    "    return fruits.price.sum()\n",
    "\n",
    "\n",
    "get_total_price(fruits)"
   ]
  },
  {
   "cell_type": "code",
   "execution_count": 25,
   "id": "1078ca06",
   "metadata": {
    "ExecuteTime": {
     "end_time": "2022-03-25T19:08:44.613005Z",
     "start_time": "2022-03-25T19:08:44.527232Z"
    }
   },
   "outputs": [
    {
     "data": {
      "application/javascript": [
       "\n",
       "            setTimeout(function() {\n",
       "                var nbb_cell_id = 25;\n",
       "                var nbb_unformatted_code = \"%%ipytest -qq\\ndef test_get_total_price():\\n    fruits = pd.DataFrame({'name': ['apple', 'banana'], 'store': ['Aldi', 'Walmart'], 'price': [1, 2]})\\n    assert get_total_price(fruits) == 3\";\n",
       "                var nbb_formatted_code = \"%%ipytest -qq\\ndef test_get_total_price():\\n    fruits = pd.DataFrame({'name': ['apple', 'banana'], 'store': ['Aldi', 'Walmart'], 'price': [1, 2]})\\n    assert get_total_price(fruits) == 3\";\n",
       "                var nbb_cells = Jupyter.notebook.get_cells();\n",
       "                for (var i = 0; i < nbb_cells.length; ++i) {\n",
       "                    if (nbb_cells[i].input_prompt_number == nbb_cell_id) {\n",
       "                        if (nbb_cells[i].get_text() == nbb_unformatted_code) {\n",
       "                             nbb_cells[i].set_text(nbb_formatted_code);\n",
       "                        }\n",
       "                        break;\n",
       "                    }\n",
       "                }\n",
       "            }, 500);\n",
       "            "
      ],
      "text/plain": [
       "<IPython.core.display.Javascript object>"
      ]
     },
     "metadata": {},
     "output_type": "display_data"
    },
    {
     "name": "stdout",
     "output_type": "stream",
     "text": [
      "\u001b[32m.\u001b[0m\u001b[32m                                                                                            [100%]\u001b[0m\n"
     ]
    },
    {
     "data": {
      "application/javascript": [
       "\n",
       "            setTimeout(function() {\n",
       "                var nbb_cell_id = 25;\n",
       "                var nbb_unformatted_code = \"%%ipytest -qq\\ndef test_get_total_price():\\n    fruits = pd.DataFrame({'name': ['apple', 'banana'], 'store': ['Aldi', 'Walmart'], 'price': [1, 2]})\\n    assert get_total_price(fruits) == 3\";\n",
       "                var nbb_formatted_code = \"%%ipytest -qq\\ndef test_get_total_price():\\n    fruits = pd.DataFrame({'name': ['apple', 'banana'], 'store': ['Aldi', 'Walmart'], 'price': [1, 2]})\\n    assert get_total_price(fruits) == 3\";\n",
       "                var nbb_cells = Jupyter.notebook.get_cells();\n",
       "                for (var i = 0; i < nbb_cells.length; ++i) {\n",
       "                    if (nbb_cells[i].input_prompt_number == nbb_cell_id) {\n",
       "                        if (nbb_cells[i].get_text() == nbb_unformatted_code) {\n",
       "                             nbb_cells[i].set_text(nbb_formatted_code);\n",
       "                        }\n",
       "                        break;\n",
       "                    }\n",
       "                }\n",
       "            }, 500);\n",
       "            "
      ],
      "text/plain": [
       "<IPython.core.display.Javascript object>"
      ]
     },
     "metadata": {},
     "output_type": "display_data"
    }
   ],
   "source": [
    "%%ipytest -qq\n",
    "def test_get_total_price():\n",
    "    fruits = pd.DataFrame({'name': ['apple', 'banana'], 'store': ['Aldi', 'Walmart'], 'price': [1, 2]})\n",
    "    assert get_total_price(fruits) == 3"
   ]
  },
  {
   "cell_type": "markdown",
   "id": "47fe5471",
   "metadata": {},
   "source": [
    "## Check Output"
   ]
  },
  {
   "cell_type": "code",
   "execution_count": 30,
   "id": "f4000414",
   "metadata": {
    "ExecuteTime": {
     "end_time": "2022-03-25T19:23:45.156508Z",
     "start_time": "2022-03-25T19:23:45.121056Z"
    },
    "code_folding": []
   },
   "outputs": [
    {
     "data": {
      "text/html": [
       "<div>\n",
       "<style scoped>\n",
       "    .dataframe tbody tr th:only-of-type {\n",
       "        vertical-align: middle;\n",
       "    }\n",
       "\n",
       "    .dataframe tbody tr th {\n",
       "        vertical-align: top;\n",
       "    }\n",
       "\n",
       "    .dataframe thead th {\n",
       "        text-align: right;\n",
       "    }\n",
       "</style>\n",
       "<table border=\"1\" class=\"dataframe\">\n",
       "  <thead>\n",
       "    <tr style=\"text-align: right;\">\n",
       "      <th></th>\n",
       "      <th>name</th>\n",
       "      <th>store</th>\n",
       "      <th>price</th>\n",
       "    </tr>\n",
       "  </thead>\n",
       "  <tbody>\n",
       "    <tr>\n",
       "      <th>0</th>\n",
       "      <td>apple</td>\n",
       "      <td>Aldi</td>\n",
       "      <td>2</td>\n",
       "    </tr>\n",
       "    <tr>\n",
       "      <th>1</th>\n",
       "      <td>banana</td>\n",
       "      <td>Walmart</td>\n",
       "      <td>1</td>\n",
       "    </tr>\n",
       "    <tr>\n",
       "      <th>2</th>\n",
       "      <td>apple</td>\n",
       "      <td>Walmart</td>\n",
       "      <td>3</td>\n",
       "    </tr>\n",
       "    <tr>\n",
       "      <th>3</th>\n",
       "      <td>orange</td>\n",
       "      <td>Aldi</td>\n",
       "      <td>4</td>\n",
       "    </tr>\n",
       "    <tr>\n",
       "      <th>0</th>\n",
       "      <td>apple</td>\n",
       "      <td>Whole Foods</td>\n",
       "      <td>3</td>\n",
       "    </tr>\n",
       "    <tr>\n",
       "      <th>1</th>\n",
       "      <td>banana</td>\n",
       "      <td>Whole Foods</td>\n",
       "      <td>2</td>\n",
       "    </tr>\n",
       "    <tr>\n",
       "      <th>2</th>\n",
       "      <td>apple</td>\n",
       "      <td>Schnucks</td>\n",
       "      <td>4</td>\n",
       "    </tr>\n",
       "    <tr>\n",
       "      <th>3</th>\n",
       "      <td>orange</td>\n",
       "      <td>Schnucks</td>\n",
       "      <td>5</td>\n",
       "    </tr>\n",
       "  </tbody>\n",
       "</table>\n",
       "</div>"
      ],
      "text/plain": [
       "     name        store  price\n",
       "0   apple         Aldi      2\n",
       "1  banana      Walmart      1\n",
       "2   apple      Walmart      3\n",
       "3  orange         Aldi      4\n",
       "0   apple  Whole Foods      3\n",
       "1  banana  Whole Foods      2\n",
       "2   apple     Schnucks      4\n",
       "3  orange     Schnucks      5"
      ]
     },
     "execution_count": 30,
     "metadata": {},
     "output_type": "execute_result"
    },
    {
     "data": {
      "application/javascript": [
       "\n",
       "            setTimeout(function() {\n",
       "                var nbb_cell_id = 30;\n",
       "                var nbb_unformatted_code = \"fruits_nearby = pd.DataFrame(\\n    {\\n        \\\"name\\\": [\\\"apple\\\", \\\"banana\\\", \\\"apple\\\", \\\"orange\\\"],\\n        \\\"store\\\": [\\\"Aldi\\\", \\\"Walmart\\\", \\\"Walmart\\\", \\\"Aldi\\\"],\\n        \\\"price\\\": [2, 1, 3, 4],\\n    }\\n)\\n\\nfruits_faraway = pd.DataFrame(\\n    {\\n        \\\"name\\\": [\\\"apple\\\", \\\"banana\\\", \\\"apple\\\", \\\"orange\\\"],\\n        \\\"store\\\": [\\\"Whole Foods\\\", \\\"Whole Foods\\\", \\\"Schnucks\\\", \\\"Schnucks\\\"],\\n        \\\"price\\\": [3, 2, 4, 5],\\n    }\\n)\\n\\nout_schema = pa.DataFrameSchema(\\n    {\\\"store\\\": Column(str, Check.isin([\\\"Aldi\\\", \\\"Walmart\\\", \\\"Whole Foods\\\", \\\"Schnucks\\\"]))}\\n)\\n\\n\\n@check_output(out_schema)\\ndef combine_fruits(fruits_nearby: pd.DataFrame, fruits_faraway: pd.DataFrame):\\n    fruits = pd.concat([fruits_nearby, fruits_faraway])\\n    return fruits\\n\\ncombine_fruits(fruits_nearby, fruits_faraway)\";\n",
       "                var nbb_formatted_code = \"fruits_nearby = pd.DataFrame(\\n    {\\n        \\\"name\\\": [\\\"apple\\\", \\\"banana\\\", \\\"apple\\\", \\\"orange\\\"],\\n        \\\"store\\\": [\\\"Aldi\\\", \\\"Walmart\\\", \\\"Walmart\\\", \\\"Aldi\\\"],\\n        \\\"price\\\": [2, 1, 3, 4],\\n    }\\n)\\n\\nfruits_faraway = pd.DataFrame(\\n    {\\n        \\\"name\\\": [\\\"apple\\\", \\\"banana\\\", \\\"apple\\\", \\\"orange\\\"],\\n        \\\"store\\\": [\\\"Whole Foods\\\", \\\"Whole Foods\\\", \\\"Schnucks\\\", \\\"Schnucks\\\"],\\n        \\\"price\\\": [3, 2, 4, 5],\\n    }\\n)\\n\\nout_schema = pa.DataFrameSchema(\\n    {\\\"store\\\": Column(str, Check.isin([\\\"Aldi\\\", \\\"Walmart\\\", \\\"Whole Foods\\\", \\\"Schnucks\\\"]))}\\n)\\n\\n\\n@check_output(out_schema)\\ndef combine_fruits(fruits_nearby: pd.DataFrame, fruits_faraway: pd.DataFrame):\\n    fruits = pd.concat([fruits_nearby, fruits_faraway])\\n    return fruits\\n\\n\\ncombine_fruits(fruits_nearby, fruits_faraway)\";\n",
       "                var nbb_cells = Jupyter.notebook.get_cells();\n",
       "                for (var i = 0; i < nbb_cells.length; ++i) {\n",
       "                    if (nbb_cells[i].input_prompt_number == nbb_cell_id) {\n",
       "                        if (nbb_cells[i].get_text() == nbb_unformatted_code) {\n",
       "                             nbb_cells[i].set_text(nbb_formatted_code);\n",
       "                        }\n",
       "                        break;\n",
       "                    }\n",
       "                }\n",
       "            }, 500);\n",
       "            "
      ],
      "text/plain": [
       "<IPython.core.display.Javascript object>"
      ]
     },
     "metadata": {},
     "output_type": "display_data"
    }
   ],
   "source": [
    "fruits_nearby = pd.DataFrame(\n",
    "    {\n",
    "        \"name\": [\"apple\", \"banana\", \"apple\", \"orange\"],\n",
    "        \"store\": [\"Aldi\", \"Walmart\", \"Walmart\", \"Aldi\"],\n",
    "        \"price\": [2, 1, 3, 4],\n",
    "    }\n",
    ")\n",
    "\n",
    "fruits_faraway = pd.DataFrame(\n",
    "    {\n",
    "        \"name\": [\"apple\", \"banana\", \"apple\", \"orange\"],\n",
    "        \"store\": [\"Whole Foods\", \"Whole Foods\", \"Schnucks\", \"Schnucks\"],\n",
    "        \"price\": [3, 2, 4, 5],\n",
    "    }\n",
    ")\n",
    "\n",
    "out_schema = pa.DataFrameSchema(\n",
    "    {\"store\": Column(str, Check.isin([\"Aldi\", \"Walmart\", \"Whole Foods\", \"Schnucks\"]))}\n",
    ")\n",
    "\n",
    "\n",
    "@check_output(out_schema)\n",
    "def combine_fruits(fruits_nearby: pd.DataFrame, fruits_faraway: pd.DataFrame):\n",
    "    fruits = pd.concat([fruits_nearby, fruits_faraway])\n",
    "    return fruits\n",
    "\n",
    "\n",
    "combine_fruits(fruits_nearby, fruits_faraway)"
   ]
  },
  {
   "cell_type": "markdown",
   "id": "c56d96d2",
   "metadata": {},
   "source": [
    "## Check Both"
   ]
  },
  {
   "cell_type": "code",
   "execution_count": 31,
   "id": "1fcc660e",
   "metadata": {
    "ExecuteTime": {
     "end_time": "2022-03-25T19:23:56.679696Z",
     "start_time": "2022-03-25T19:23:56.654195Z"
    }
   },
   "outputs": [
    {
     "data": {
      "text/html": [
       "<div>\n",
       "<style scoped>\n",
       "    .dataframe tbody tr th:only-of-type {\n",
       "        vertical-align: middle;\n",
       "    }\n",
       "\n",
       "    .dataframe tbody tr th {\n",
       "        vertical-align: top;\n",
       "    }\n",
       "\n",
       "    .dataframe thead th {\n",
       "        text-align: right;\n",
       "    }\n",
       "</style>\n",
       "<table border=\"1\" class=\"dataframe\">\n",
       "  <thead>\n",
       "    <tr style=\"text-align: right;\">\n",
       "      <th></th>\n",
       "      <th>name</th>\n",
       "      <th>store</th>\n",
       "      <th>price</th>\n",
       "    </tr>\n",
       "  </thead>\n",
       "  <tbody>\n",
       "    <tr>\n",
       "      <th>0</th>\n",
       "      <td>apple</td>\n",
       "      <td>Aldi</td>\n",
       "      <td>2</td>\n",
       "    </tr>\n",
       "    <tr>\n",
       "      <th>1</th>\n",
       "      <td>banana</td>\n",
       "      <td>Walmart</td>\n",
       "      <td>1</td>\n",
       "    </tr>\n",
       "    <tr>\n",
       "      <th>2</th>\n",
       "      <td>apple</td>\n",
       "      <td>Walmart</td>\n",
       "      <td>3</td>\n",
       "    </tr>\n",
       "    <tr>\n",
       "      <th>3</th>\n",
       "      <td>orange</td>\n",
       "      <td>Aldi</td>\n",
       "      <td>4</td>\n",
       "    </tr>\n",
       "    <tr>\n",
       "      <th>0</th>\n",
       "      <td>apple</td>\n",
       "      <td>Whole Foods</td>\n",
       "      <td>3</td>\n",
       "    </tr>\n",
       "    <tr>\n",
       "      <th>1</th>\n",
       "      <td>banana</td>\n",
       "      <td>Whole Foods</td>\n",
       "      <td>2</td>\n",
       "    </tr>\n",
       "    <tr>\n",
       "      <th>2</th>\n",
       "      <td>apple</td>\n",
       "      <td>Schnucks</td>\n",
       "      <td>4</td>\n",
       "    </tr>\n",
       "    <tr>\n",
       "      <th>3</th>\n",
       "      <td>orange</td>\n",
       "      <td>Schnucks</td>\n",
       "      <td>5</td>\n",
       "    </tr>\n",
       "  </tbody>\n",
       "</table>\n",
       "</div>"
      ],
      "text/plain": [
       "     name        store  price\n",
       "0   apple         Aldi      2\n",
       "1  banana      Walmart      1\n",
       "2   apple      Walmart      3\n",
       "3  orange         Aldi      4\n",
       "0   apple  Whole Foods      3\n",
       "1  banana  Whole Foods      2\n",
       "2   apple     Schnucks      4\n",
       "3  orange     Schnucks      5"
      ]
     },
     "execution_count": 31,
     "metadata": {},
     "output_type": "execute_result"
    },
    {
     "data": {
      "application/javascript": [
       "\n",
       "            setTimeout(function() {\n",
       "                var nbb_cell_id = 31;\n",
       "                var nbb_unformatted_code = \"in_schema = pa.DataFrameSchema({\\\"store\\\": Column(str)})\\n\\nout_schema = pa.DataFrameSchema(\\n    {\\\"store\\\": Column(str, Check.isin([\\\"Aldi\\\", \\\"Walmart\\\", \\\"Whole Foods\\\", \\\"Schnucks\\\"]))}\\n)\\n\\n\\n@check_io(fruits_nearby=in_schema, fruits_faraway=in_schema, out=out_schema)\\ndef combine_fruits(fruits_nearby: pd.DataFrame, fruits_faraway: pd.DataFrame):\\n    fruits = pd.concat([fruits_nearby, fruits_faraway])\\n    return fruits\\n\\n\\ncombine_fruits(fruits_nearby, fruits_faraway)\";\n",
       "                var nbb_formatted_code = \"in_schema = pa.DataFrameSchema({\\\"store\\\": Column(str)})\\n\\nout_schema = pa.DataFrameSchema(\\n    {\\\"store\\\": Column(str, Check.isin([\\\"Aldi\\\", \\\"Walmart\\\", \\\"Whole Foods\\\", \\\"Schnucks\\\"]))}\\n)\\n\\n\\n@check_io(fruits_nearby=in_schema, fruits_faraway=in_schema, out=out_schema)\\ndef combine_fruits(fruits_nearby: pd.DataFrame, fruits_faraway: pd.DataFrame):\\n    fruits = pd.concat([fruits_nearby, fruits_faraway])\\n    return fruits\\n\\n\\ncombine_fruits(fruits_nearby, fruits_faraway)\";\n",
       "                var nbb_cells = Jupyter.notebook.get_cells();\n",
       "                for (var i = 0; i < nbb_cells.length; ++i) {\n",
       "                    if (nbb_cells[i].input_prompt_number == nbb_cell_id) {\n",
       "                        if (nbb_cells[i].get_text() == nbb_unformatted_code) {\n",
       "                             nbb_cells[i].set_text(nbb_formatted_code);\n",
       "                        }\n",
       "                        break;\n",
       "                    }\n",
       "                }\n",
       "            }, 500);\n",
       "            "
      ],
      "text/plain": [
       "<IPython.core.display.Javascript object>"
      ]
     },
     "metadata": {},
     "output_type": "display_data"
    }
   ],
   "source": [
    "in_schema = pa.DataFrameSchema({\"store\": Column(str)})\n",
    "\n",
    "out_schema = pa.DataFrameSchema(\n",
    "    {\"store\": Column(str, Check.isin([\"Aldi\", \"Walmart\", \"Whole Foods\", \"Schnucks\"]))}\n",
    ")\n",
    "\n",
    "\n",
    "@check_io(fruits_nearby=in_schema, fruits_faraway=in_schema, out=out_schema)\n",
    "def combine_fruits(fruits_nearby: pd.DataFrame, fruits_faraway: pd.DataFrame):\n",
    "    fruits = pd.concat([fruits_nearby, fruits_faraway])\n",
    "    return fruits\n",
    "\n",
    "\n",
    "combine_fruits(fruits_nearby, fruits_faraway)"
   ]
  },
  {
   "cell_type": "markdown",
   "id": "67f25784",
   "metadata": {},
   "source": [
    "# Other Arguments for Column Validation"
   ]
  },
  {
   "cell_type": "markdown",
   "id": "ab134b13",
   "metadata": {},
   "source": [
    "## Deal with Null Values"
   ]
  },
  {
   "cell_type": "code",
   "execution_count": 33,
   "id": "c07491f2",
   "metadata": {
    "ExecuteTime": {
     "end_time": "2022-03-25T19:31:14.040777Z",
     "start_time": "2022-03-25T19:31:14.023763Z"
    }
   },
   "outputs": [
    {
     "data": {
      "text/html": [
       "<div>\n",
       "<style scoped>\n",
       "    .dataframe tbody tr th:only-of-type {\n",
       "        vertical-align: middle;\n",
       "    }\n",
       "\n",
       "    .dataframe tbody tr th {\n",
       "        vertical-align: top;\n",
       "    }\n",
       "\n",
       "    .dataframe thead th {\n",
       "        text-align: right;\n",
       "    }\n",
       "</style>\n",
       "<table border=\"1\" class=\"dataframe\">\n",
       "  <thead>\n",
       "    <tr style=\"text-align: right;\">\n",
       "      <th></th>\n",
       "      <th>name</th>\n",
       "      <th>store</th>\n",
       "      <th>price</th>\n",
       "    </tr>\n",
       "  </thead>\n",
       "  <tbody>\n",
       "    <tr>\n",
       "      <th>0</th>\n",
       "      <td>apple</td>\n",
       "      <td>Aldi</td>\n",
       "      <td>2</td>\n",
       "    </tr>\n",
       "    <tr>\n",
       "      <th>1</th>\n",
       "      <td>banana</td>\n",
       "      <td>Walmart</td>\n",
       "      <td>1</td>\n",
       "    </tr>\n",
       "    <tr>\n",
       "      <th>2</th>\n",
       "      <td>apple</td>\n",
       "      <td>Walmart</td>\n",
       "      <td>3</td>\n",
       "    </tr>\n",
       "    <tr>\n",
       "      <th>3</th>\n",
       "      <td>orange</td>\n",
       "      <td>NaN</td>\n",
       "      <td>4</td>\n",
       "    </tr>\n",
       "  </tbody>\n",
       "</table>\n",
       "</div>"
      ],
      "text/plain": [
       "     name    store  price\n",
       "0   apple     Aldi      2\n",
       "1  banana  Walmart      1\n",
       "2   apple  Walmart      3\n",
       "3  orange      NaN      4"
      ]
     },
     "execution_count": 33,
     "metadata": {},
     "output_type": "execute_result"
    },
    {
     "data": {
      "application/javascript": [
       "\n",
       "            setTimeout(function() {\n",
       "                var nbb_cell_id = 33;\n",
       "                var nbb_unformatted_code = \"import numpy as np\\n\\nfruits = fruits = pd.DataFrame(\\n    {\\n        \\\"name\\\": [\\\"apple\\\", \\\"banana\\\", \\\"apple\\\", \\\"orange\\\"],\\n        \\\"store\\\": [\\\"Aldi\\\", \\\"Walmart\\\", \\\"Walmart\\\", np.nan],\\n        \\\"price\\\": [2, 1, 3, 4],\\n    }\\n)\\n\\nfruits\";\n",
       "                var nbb_formatted_code = \"import numpy as np\\n\\nfruits = fruits = pd.DataFrame(\\n    {\\n        \\\"name\\\": [\\\"apple\\\", \\\"banana\\\", \\\"apple\\\", \\\"orange\\\"],\\n        \\\"store\\\": [\\\"Aldi\\\", \\\"Walmart\\\", \\\"Walmart\\\", np.nan],\\n        \\\"price\\\": [2, 1, 3, 4],\\n    }\\n)\\n\\nfruits\";\n",
       "                var nbb_cells = Jupyter.notebook.get_cells();\n",
       "                for (var i = 0; i < nbb_cells.length; ++i) {\n",
       "                    if (nbb_cells[i].input_prompt_number == nbb_cell_id) {\n",
       "                        if (nbb_cells[i].get_text() == nbb_unformatted_code) {\n",
       "                             nbb_cells[i].set_text(nbb_formatted_code);\n",
       "                        }\n",
       "                        break;\n",
       "                    }\n",
       "                }\n",
       "            }, 500);\n",
       "            "
      ],
      "text/plain": [
       "<IPython.core.display.Javascript object>"
      ]
     },
     "metadata": {},
     "output_type": "display_data"
    }
   ],
   "source": [
    "import numpy as np\n",
    "\n",
    "fruits = fruits = pd.DataFrame(\n",
    "    {\n",
    "        \"name\": [\"apple\", \"banana\", \"apple\", \"orange\"],\n",
    "        \"store\": [\"Aldi\", \"Walmart\", \"Walmart\", np.nan],\n",
    "        \"price\": [2, 1, 3, 4],\n",
    "    }\n",
    ")\n",
    "\n",
    "fruits"
   ]
  },
  {
   "cell_type": "code",
   "execution_count": null,
   "id": "57828b2f",
   "metadata": {
    "ExecuteTime": {
     "end_time": "2022-03-25T19:31:14.622436Z",
     "start_time": "2022-03-25T19:31:14.417389Z"
    }
   },
   "outputs": [],
   "source": [
    "schema = pa.DataFrameSchema(\n",
    "    {\n",
    "        \"name\": Column(str, Check.isin(available_fruits)),\n",
    "        \"store\": Column(str, Check.isin(nearby_stores)),\n",
    "        \"price\": Column(int, Check.less_than(5)),\n",
    "    }\n",
    ")\n",
    "schema.validate(fruits)"
   ]
  },
  {
   "cell_type": "code",
   "execution_count": 35,
   "id": "cfb2b445",
   "metadata": {
    "ExecuteTime": {
     "end_time": "2022-03-25T19:31:18.520397Z",
     "start_time": "2022-03-25T19:31:18.496748Z"
    }
   },
   "outputs": [
    {
     "data": {
      "text/html": [
       "<div>\n",
       "<style scoped>\n",
       "    .dataframe tbody tr th:only-of-type {\n",
       "        vertical-align: middle;\n",
       "    }\n",
       "\n",
       "    .dataframe tbody tr th {\n",
       "        vertical-align: top;\n",
       "    }\n",
       "\n",
       "    .dataframe thead th {\n",
       "        text-align: right;\n",
       "    }\n",
       "</style>\n",
       "<table border=\"1\" class=\"dataframe\">\n",
       "  <thead>\n",
       "    <tr style=\"text-align: right;\">\n",
       "      <th></th>\n",
       "      <th>name</th>\n",
       "      <th>store</th>\n",
       "      <th>price</th>\n",
       "    </tr>\n",
       "  </thead>\n",
       "  <tbody>\n",
       "    <tr>\n",
       "      <th>0</th>\n",
       "      <td>apple</td>\n",
       "      <td>Aldi</td>\n",
       "      <td>2</td>\n",
       "    </tr>\n",
       "    <tr>\n",
       "      <th>1</th>\n",
       "      <td>banana</td>\n",
       "      <td>Walmart</td>\n",
       "      <td>1</td>\n",
       "    </tr>\n",
       "    <tr>\n",
       "      <th>2</th>\n",
       "      <td>apple</td>\n",
       "      <td>Walmart</td>\n",
       "      <td>3</td>\n",
       "    </tr>\n",
       "    <tr>\n",
       "      <th>3</th>\n",
       "      <td>orange</td>\n",
       "      <td>NaN</td>\n",
       "      <td>4</td>\n",
       "    </tr>\n",
       "  </tbody>\n",
       "</table>\n",
       "</div>"
      ],
      "text/plain": [
       "     name    store  price\n",
       "0   apple     Aldi      2\n",
       "1  banana  Walmart      1\n",
       "2   apple  Walmart      3\n",
       "3  orange      NaN      4"
      ]
     },
     "execution_count": 35,
     "metadata": {},
     "output_type": "execute_result"
    },
    {
     "data": {
      "application/javascript": [
       "\n",
       "            setTimeout(function() {\n",
       "                var nbb_cell_id = 35;\n",
       "                var nbb_unformatted_code = \"schema = pa.DataFrameSchema(\\n    {\\n        \\\"name\\\": Column(str, Check.isin(available_fruits)),\\n        \\\"store\\\": Column(str, Check.isin(nearby_stores), nullable=True),\\n        \\\"price\\\": Column(int, Check.less_than(5)),\\n    }\\n)\\nschema.validate(fruits)\";\n",
       "                var nbb_formatted_code = \"schema = pa.DataFrameSchema(\\n    {\\n        \\\"name\\\": Column(str, Check.isin(available_fruits)),\\n        \\\"store\\\": Column(str, Check.isin(nearby_stores), nullable=True),\\n        \\\"price\\\": Column(int, Check.less_than(5)),\\n    }\\n)\\nschema.validate(fruits)\";\n",
       "                var nbb_cells = Jupyter.notebook.get_cells();\n",
       "                for (var i = 0; i < nbb_cells.length; ++i) {\n",
       "                    if (nbb_cells[i].input_prompt_number == nbb_cell_id) {\n",
       "                        if (nbb_cells[i].get_text() == nbb_unformatted_code) {\n",
       "                             nbb_cells[i].set_text(nbb_formatted_code);\n",
       "                        }\n",
       "                        break;\n",
       "                    }\n",
       "                }\n",
       "            }, 500);\n",
       "            "
      ],
      "text/plain": [
       "<IPython.core.display.Javascript object>"
      ]
     },
     "metadata": {},
     "output_type": "display_data"
    }
   ],
   "source": [
    "schema = pa.DataFrameSchema(\n",
    "    {\n",
    "        \"name\": Column(str, Check.isin(available_fruits)),\n",
    "        \"store\": Column(str, Check.isin(nearby_stores), nullable=True),\n",
    "        \"price\": Column(int, Check.less_than(5)),\n",
    "    }\n",
    ")\n",
    "schema.validate(fruits)"
   ]
  },
  {
   "cell_type": "markdown",
   "id": "e4998af4",
   "metadata": {},
   "source": [
    "## Deal with Duplicates"
   ]
  },
  {
   "cell_type": "code",
   "execution_count": null,
   "id": "a0d79c0a",
   "metadata": {
    "ExecuteTime": {
     "end_time": "2022-03-25T15:35:48.286483Z",
     "start_time": "2022-03-25T15:35:48.217538Z"
    }
   },
   "outputs": [],
   "source": [
    "schema = pa.DataFrameSchema(\n",
    "    {\n",
    "        \"name\": Column(str, Check.isin(available_fruits)),\n",
    "        \"store\": Column(\n",
    "            str, Check.isin(nearby_stores), nullable=True, allow_duplicates=False\n",
    "        ),\n",
    "        \"price\": Column(int, Check.less_than(5)),\n",
    "    }\n",
    ")\n",
    "schema.validate(fruits)"
   ]
  },
  {
   "cell_type": "markdown",
   "id": "045edb47",
   "metadata": {},
   "source": [
    "## Convert Data Types"
   ]
  },
  {
   "cell_type": "code",
   "execution_count": 38,
   "id": "0e7e9deb",
   "metadata": {
    "ExecuteTime": {
     "end_time": "2022-03-25T19:38:21.614473Z",
     "start_time": "2022-03-25T19:38:21.589580Z"
    }
   },
   "outputs": [
    {
     "data": {
      "text/plain": [
       "name     object\n",
       "store    object\n",
       "price    object\n",
       "dtype: object"
      ]
     },
     "execution_count": 38,
     "metadata": {},
     "output_type": "execute_result"
    },
    {
     "data": {
      "application/javascript": [
       "\n",
       "            setTimeout(function() {\n",
       "                var nbb_cell_id = 38;\n",
       "                var nbb_unformatted_code = \"fruits = pd.DataFrame(\\n    {\\n        \\\"name\\\": [\\\"apple\\\", \\\"banana\\\", \\\"apple\\\", \\\"orange\\\"],\\n        \\\"store\\\": [\\\"Aldi\\\", \\\"Walmart\\\", \\\"Walmart\\\", \\\"Aldi\\\"],\\n        \\\"price\\\": [2, 1, 3, 4],\\n    }\\n)\\n\\nschema = pa.DataFrameSchema(\\n    {\\n        \\\"price\\\": Column(str, coerce=True)\\n    }\\n)\\nvalidated = schema.validate(fruits)\\nvalidated.dtypes\";\n",
       "                var nbb_formatted_code = \"fruits = pd.DataFrame(\\n    {\\n        \\\"name\\\": [\\\"apple\\\", \\\"banana\\\", \\\"apple\\\", \\\"orange\\\"],\\n        \\\"store\\\": [\\\"Aldi\\\", \\\"Walmart\\\", \\\"Walmart\\\", \\\"Aldi\\\"],\\n        \\\"price\\\": [2, 1, 3, 4],\\n    }\\n)\\n\\nschema = pa.DataFrameSchema({\\\"price\\\": Column(str, coerce=True)})\\nvalidated = schema.validate(fruits)\\nvalidated.dtypes\";\n",
       "                var nbb_cells = Jupyter.notebook.get_cells();\n",
       "                for (var i = 0; i < nbb_cells.length; ++i) {\n",
       "                    if (nbb_cells[i].input_prompt_number == nbb_cell_id) {\n",
       "                        if (nbb_cells[i].get_text() == nbb_unformatted_code) {\n",
       "                             nbb_cells[i].set_text(nbb_formatted_code);\n",
       "                        }\n",
       "                        break;\n",
       "                    }\n",
       "                }\n",
       "            }, 500);\n",
       "            "
      ],
      "text/plain": [
       "<IPython.core.display.Javascript object>"
      ]
     },
     "metadata": {},
     "output_type": "display_data"
    }
   ],
   "source": [
    "fruits = pd.DataFrame(\n",
    "    {\n",
    "        \"name\": [\"apple\", \"banana\", \"apple\", \"orange\"],\n",
    "        \"store\": [\"Aldi\", \"Walmart\", \"Walmart\", \"Aldi\"],\n",
    "        \"price\": [2, 1, 3, 4],\n",
    "    }\n",
    ")\n",
    "\n",
    "schema = pa.DataFrameSchema({\"price\": Column(str, coerce=True)})\n",
    "validated = schema.validate(fruits)\n",
    "validated.dtypes"
   ]
  },
  {
   "cell_type": "markdown",
   "id": "5c0a8392",
   "metadata": {},
   "source": [
    "## Patern Matching"
   ]
  },
  {
   "cell_type": "code",
   "execution_count": 63,
   "id": "1b2afa5d",
   "metadata": {
    "ExecuteTime": {
     "end_time": "2022-03-25T15:53:05.233627Z",
     "start_time": "2022-03-25T15:53:05.152397Z"
    }
   },
   "outputs": [
    {
     "data": {
      "text/html": [
       "<div>\n",
       "<style scoped>\n",
       "    .dataframe tbody tr th:only-of-type {\n",
       "        vertical-align: middle;\n",
       "    }\n",
       "\n",
       "    .dataframe tbody tr th {\n",
       "        vertical-align: top;\n",
       "    }\n",
       "\n",
       "    .dataframe thead th {\n",
       "        text-align: right;\n",
       "    }\n",
       "</style>\n",
       "<table border=\"1\" class=\"dataframe\">\n",
       "  <thead>\n",
       "    <tr style=\"text-align: right;\">\n",
       "      <th></th>\n",
       "      <th>name</th>\n",
       "      <th>store_nearby</th>\n",
       "      <th>store_far</th>\n",
       "    </tr>\n",
       "  </thead>\n",
       "  <tbody>\n",
       "    <tr>\n",
       "      <th>0</th>\n",
       "      <td>apple</td>\n",
       "      <td>Aldi</td>\n",
       "      <td>Whole Foods</td>\n",
       "    </tr>\n",
       "    <tr>\n",
       "      <th>1</th>\n",
       "      <td>banana</td>\n",
       "      <td>Walmart</td>\n",
       "      <td>Schnucks</td>\n",
       "    </tr>\n",
       "    <tr>\n",
       "      <th>2</th>\n",
       "      <td>apple</td>\n",
       "      <td>Walmart</td>\n",
       "      <td>Whole Foods</td>\n",
       "    </tr>\n",
       "    <tr>\n",
       "      <th>3</th>\n",
       "      <td>orange</td>\n",
       "      <td>Aldi</td>\n",
       "      <td>Schnucks</td>\n",
       "    </tr>\n",
       "  </tbody>\n",
       "</table>\n",
       "</div>"
      ],
      "text/plain": [
       "     name store_nearby    store_far\n",
       "0   apple         Aldi  Whole Foods\n",
       "1  banana      Walmart     Schnucks\n",
       "2   apple      Walmart  Whole Foods\n",
       "3  orange         Aldi     Schnucks"
      ]
     },
     "execution_count": 63,
     "metadata": {},
     "output_type": "execute_result"
    },
    {
     "data": {
      "application/javascript": [
       "\n",
       "            setTimeout(function() {\n",
       "                var nbb_cell_id = 63;\n",
       "                var nbb_unformatted_code = \"favorite_stores = [\\\"Aldi\\\", \\\"Walmart\\\", \\\"Whole Foods\\\", \\\"Schnucks\\\"]\\n\\nfruits = pd.DataFrame(\\n    {\\n        \\\"name\\\": [\\\"apple\\\", \\\"banana\\\", \\\"apple\\\", \\\"orange\\\"],\\n        \\\"store_nearby\\\": [\\\"Aldi\\\", \\\"Walmart\\\", \\\"Walmart\\\", \\\"Aldi\\\"],\\n        \\\"store_far\\\": [\\\"Whole Foods\\\", \\\"Schnucks\\\", \\\"Whole Foods\\\", \\\"Schnucks\\\"],\\n    }\\n)\\n\\nschema = pa.DataFrameSchema(\\n    {\\n        \\\"name\\\": Column(str, Check.isin(available_fruits)),\\n        \\\"store_+\\\": Column(str, Check.isin(favorite_stores), regex=True),\\n    }\\n)\\nschema.validate(fruits)\";\n",
       "                var nbb_formatted_code = \"favorite_stores = [\\\"Aldi\\\", \\\"Walmart\\\", \\\"Whole Foods\\\", \\\"Schnucks\\\"]\\n\\nfruits = pd.DataFrame(\\n    {\\n        \\\"name\\\": [\\\"apple\\\", \\\"banana\\\", \\\"apple\\\", \\\"orange\\\"],\\n        \\\"store_nearby\\\": [\\\"Aldi\\\", \\\"Walmart\\\", \\\"Walmart\\\", \\\"Aldi\\\"],\\n        \\\"store_far\\\": [\\\"Whole Foods\\\", \\\"Schnucks\\\", \\\"Whole Foods\\\", \\\"Schnucks\\\"],\\n    }\\n)\\n\\nschema = pa.DataFrameSchema(\\n    {\\n        \\\"name\\\": Column(str, Check.isin(available_fruits)),\\n        \\\"store_+\\\": Column(str, Check.isin(favorite_stores), regex=True),\\n    }\\n)\\nschema.validate(fruits)\";\n",
       "                var nbb_cells = Jupyter.notebook.get_cells();\n",
       "                for (var i = 0; i < nbb_cells.length; ++i) {\n",
       "                    if (nbb_cells[i].input_prompt_number == nbb_cell_id) {\n",
       "                        if (nbb_cells[i].get_text() == nbb_unformatted_code) {\n",
       "                             nbb_cells[i].set_text(nbb_formatted_code);\n",
       "                        }\n",
       "                        break;\n",
       "                    }\n",
       "                }\n",
       "            }, 500);\n",
       "            "
      ],
      "text/plain": [
       "<IPython.core.display.Javascript object>"
      ]
     },
     "metadata": {},
     "output_type": "display_data"
    }
   ],
   "source": [
    "favorite_stores = [\"Aldi\", \"Walmart\", \"Whole Foods\", \"Schnucks\"]\n",
    "\n",
    "fruits = pd.DataFrame(\n",
    "    {\n",
    "        \"name\": [\"apple\", \"banana\", \"apple\", \"orange\"],\n",
    "        \"store_nearby\": [\"Aldi\", \"Walmart\", \"Walmart\", \"Aldi\"],\n",
    "        \"store_far\": [\"Whole Foods\", \"Schnucks\", \"Whole Foods\", \"Schnucks\"],\n",
    "    }\n",
    ")\n",
    "\n",
    "schema = pa.DataFrameSchema(\n",
    "    {\n",
    "        \"name\": Column(str, Check.isin(available_fruits)),\n",
    "        \"store_+\": Column(str, Check.isin(favorite_stores), regex=True),\n",
    "    }\n",
    ")\n",
    "schema.validate(fruits)"
   ]
  },
  {
   "cell_type": "markdown",
   "id": "6b396eb3",
   "metadata": {},
   "source": [
    "# Export and Load From a YAML file"
   ]
  },
  {
   "cell_type": "markdown",
   "id": "a946ae50",
   "metadata": {},
   "source": [
    "## Export"
   ]
  },
  {
   "cell_type": "code",
   "execution_count": 49,
   "id": "86c4cc16",
   "metadata": {
    "ExecuteTime": {
     "end_time": "2022-03-25T15:39:00.417968Z",
     "start_time": "2022-03-25T15:39:00.394006Z"
    }
   },
   "outputs": [
    {
     "name": "stdout",
     "output_type": "stream",
     "text": [
      "schema_type: dataframe\n",
      "version: 0.7.0\n",
      "columns:\n",
      "  name:\n",
      "    dtype: str\n",
      "    nullable: false\n",
      "    checks:\n",
      "      isin:\n",
      "      - apple\n",
      "      - banana\n",
      "      - orange\n",
      "    allow_duplicates: true\n",
      "    coerce: false\n",
      "    required: true\n",
      "    regex: false\n",
      "  store:\n",
      "    dtype: str\n",
      "    nullable: true\n",
      "    checks:\n",
      "      isin:\n",
      "      - Aldi\n",
      "      - Walmart\n",
      "    allow_duplicates: false\n",
      "    coerce: false\n",
      "    required: true\n",
      "    regex: false\n",
      "  price:\n",
      "    dtype: int64\n",
      "    nullable: false\n",
      "    checks:\n",
      "      less_than: 5\n",
      "    allow_duplicates: true\n",
      "    coerce: false\n",
      "    required: true\n",
      "    regex: false\n",
      "checks: null\n",
      "index: null\n",
      "coerce: false\n",
      "strict: false\n",
      "\n"
     ]
    },
    {
     "data": {
      "application/javascript": [
       "\n",
       "            setTimeout(function() {\n",
       "                var nbb_cell_id = 49;\n",
       "                var nbb_unformatted_code = \"yaml_schema = schema.to_yaml()\\nprint(yaml_schema)\";\n",
       "                var nbb_formatted_code = \"yaml_schema = schema.to_yaml()\\nprint(yaml_schema)\";\n",
       "                var nbb_cells = Jupyter.notebook.get_cells();\n",
       "                for (var i = 0; i < nbb_cells.length; ++i) {\n",
       "                    if (nbb_cells[i].input_prompt_number == nbb_cell_id) {\n",
       "                        if (nbb_cells[i].get_text() == nbb_unformatted_code) {\n",
       "                             nbb_cells[i].set_text(nbb_formatted_code);\n",
       "                        }\n",
       "                        break;\n",
       "                    }\n",
       "                }\n",
       "            }, 500);\n",
       "            "
      ],
      "text/plain": [
       "<IPython.core.display.Javascript object>"
      ]
     },
     "metadata": {},
     "output_type": "display_data"
    }
   ],
   "source": [
    "yaml_schema = schema.to_yaml()\n",
    "print(yaml_schema)"
   ]
  },
  {
   "cell_type": "code",
   "execution_count": 53,
   "id": "c38b376a",
   "metadata": {
    "ExecuteTime": {
     "end_time": "2022-03-25T15:40:58.368617Z",
     "start_time": "2022-03-25T15:40:58.347761Z"
    }
   },
   "outputs": [
    {
     "data": {
      "text/plain": [
       "628"
      ]
     },
     "execution_count": 53,
     "metadata": {},
     "output_type": "execute_result"
    },
    {
     "data": {
      "application/javascript": [
       "\n",
       "            setTimeout(function() {\n",
       "                var nbb_cell_id = 53;\n",
       "                var nbb_unformatted_code = \"from pathlib import Path\\n\\nf = Path(\\\"schema.yml\\\")\\nf.touch()\\nf.write_text(yaml_schema)\";\n",
       "                var nbb_formatted_code = \"from pathlib import Path\\n\\nf = Path(\\\"schema.yml\\\")\\nf.touch()\\nf.write_text(yaml_schema)\";\n",
       "                var nbb_cells = Jupyter.notebook.get_cells();\n",
       "                for (var i = 0; i < nbb_cells.length; ++i) {\n",
       "                    if (nbb_cells[i].input_prompt_number == nbb_cell_id) {\n",
       "                        if (nbb_cells[i].get_text() == nbb_unformatted_code) {\n",
       "                             nbb_cells[i].set_text(nbb_formatted_code);\n",
       "                        }\n",
       "                        break;\n",
       "                    }\n",
       "                }\n",
       "            }, 500);\n",
       "            "
      ],
      "text/plain": [
       "<IPython.core.display.Javascript object>"
      ]
     },
     "metadata": {},
     "output_type": "display_data"
    }
   ],
   "source": [
    "from pathlib import Path\n",
    "\n",
    "f = Path(\"schema.yml\")\n",
    "f.touch()\n",
    "f.write_text(yaml_schema)"
   ]
  },
  {
   "cell_type": "markdown",
   "id": "fd3db611",
   "metadata": {},
   "source": [
    "## Load"
   ]
  },
  {
   "cell_type": "code",
   "execution_count": 56,
   "id": "bd70b32d",
   "metadata": {
    "ExecuteTime": {
     "end_time": "2022-03-25T15:43:38.089308Z",
     "start_time": "2022-03-25T15:43:38.076024Z"
    }
   },
   "outputs": [
    {
     "data": {
      "application/javascript": [
       "\n",
       "            setTimeout(function() {\n",
       "                var nbb_cell_id = 56;\n",
       "                var nbb_unformatted_code = \"with f.open() as file:\\n    yaml_schema = file.read()\";\n",
       "                var nbb_formatted_code = \"with f.open() as file:\\n    yaml_schema = file.read()\";\n",
       "                var nbb_cells = Jupyter.notebook.get_cells();\n",
       "                for (var i = 0; i < nbb_cells.length; ++i) {\n",
       "                    if (nbb_cells[i].input_prompt_number == nbb_cell_id) {\n",
       "                        if (nbb_cells[i].get_text() == nbb_unformatted_code) {\n",
       "                             nbb_cells[i].set_text(nbb_formatted_code);\n",
       "                        }\n",
       "                        break;\n",
       "                    }\n",
       "                }\n",
       "            }, 500);\n",
       "            "
      ],
      "text/plain": [
       "<IPython.core.display.Javascript object>"
      ]
     },
     "metadata": {},
     "output_type": "display_data"
    }
   ],
   "source": [
    "with f.open() as file:\n",
    "    yaml_schema = file.read()"
   ]
  },
  {
   "cell_type": "code",
   "execution_count": 57,
   "id": "6aba8b14",
   "metadata": {
    "ExecuteTime": {
     "end_time": "2022-03-25T15:43:58.571587Z",
     "start_time": "2022-03-25T15:43:58.542720Z"
    }
   },
   "outputs": [
    {
     "data": {
      "text/plain": [
       "<Schema DataFrameSchema(columns={'name': <Schema Column(name=name, type=DataType(str))>, 'store': <Schema Column(name=store, type=DataType(str))>, 'price': <Schema Column(name=price, type=DataType(int64))>}, checks=[], index=None, coerce=False, dtype=None,strict=False,name=None,ordered=False)>"
      ]
     },
     "execution_count": 57,
     "metadata": {},
     "output_type": "execute_result"
    },
    {
     "data": {
      "application/javascript": [
       "\n",
       "            setTimeout(function() {\n",
       "                var nbb_cell_id = 57;\n",
       "                var nbb_unformatted_code = \"schema = pa.io.from_yaml(yaml_schema)\\nschema\";\n",
       "                var nbb_formatted_code = \"schema = pa.io.from_yaml(yaml_schema)\\nschema\";\n",
       "                var nbb_cells = Jupyter.notebook.get_cells();\n",
       "                for (var i = 0; i < nbb_cells.length; ++i) {\n",
       "                    if (nbb_cells[i].input_prompt_number == nbb_cell_id) {\n",
       "                        if (nbb_cells[i].get_text() == nbb_unformatted_code) {\n",
       "                             nbb_cells[i].set_text(nbb_formatted_code);\n",
       "                        }\n",
       "                        break;\n",
       "                    }\n",
       "                }\n",
       "            }, 500);\n",
       "            "
      ],
      "text/plain": [
       "<IPython.core.display.Javascript object>"
      ]
     },
     "metadata": {},
     "output_type": "display_data"
    }
   ],
   "source": [
    "schema = pa.io.from_yaml(yaml_schema)\n",
    "schema"
   ]
  }
 ],
 "metadata": {
  "hide_input": false,
  "kernelspec": {
   "display_name": "Data-science",
   "language": "python",
   "name": "data-science"
  },
  "language_info": {
   "codemirror_mode": {
    "name": "ipython",
    "version": 3
   },
   "file_extension": ".py",
   "mimetype": "text/x-python",
   "name": "python",
   "nbconvert_exporter": "python",
   "pygments_lexer": "ipython3",
   "version": "3.8.10"
  },
  "toc": {
   "base_numbering": 1,
   "nav_menu": {},
   "number_sections": true,
   "sideBar": true,
   "skip_h1_title": false,
   "title_cell": "Table of Contents",
   "title_sidebar": "Contents",
   "toc_cell": false,
   "toc_position": {},
   "toc_section_display": true,
   "toc_window_display": false
  }
 },
 "nbformat": 4,
 "nbformat_minor": 5
}
