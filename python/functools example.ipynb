{
 "cells": [
  {
   "cell_type": "markdown",
   "source": "[![View on GitHub](https://img.shields.io/badge/GitHub-View_on_GitHub-blue?logo=GitHub)](https://github.com/khuyentran1401/Data-science/blob/master/python/functools%20example.ipynb)\n\n[<img src=\"https://deepnote.com/buttons/launch-in-deepnote.svg\">](https://deepnote.com/project/Data-science-hxlyJpi-QrKFJziQgoMSmQ/%2FData-science%2Fpython%2Ffunctools%20example.ipynb)",
   "metadata": {
    "tags": [],
    "cell_id": "00000-62ede752-ff02-42bd-8e68-beda6bd479d8",
    "deepnote_cell_type": "markdown"
   },
   "outputs": [],
   "execution_count": null
  },
  {
   "cell_type": "markdown",
   "source": "# functools.partial",
   "metadata": {
    "cell_id": "00000-41252bfc-c56f-42cc-b3c8-67f4eb02b58f",
    "deepnote_cell_type": "markdown"
   }
  },
  {
   "cell_type": "code",
   "metadata": {
    "ExecuteTime": {
     "end_time": "2021-11-12T23:04:49.279883Z",
     "start_time": "2021-11-12T23:04:49.216809Z"
    },
    "cell_id": "00002-72aa08e6-76c4-4d79-9d9c-10e2e21c6946",
    "deepnote_to_be_reexecuted": false,
    "source_hash": "147300f6",
    "execution_start": 1636760107587,
    "execution_millis": 88,
    "allow_embed": "code_output",
    "deepnote_cell_type": "code"
   },
   "source": "from sklearn.datasets import load_wine\nimport pandas as pd \n\nX, y = load_wine(as_frame=True, return_X_y=True)\ndf = X.merge(y, left_index=True, right_index=True)\ndf.head(10)",
   "execution_count": null,
   "outputs": [
    {
     "output_type": "execute_result",
     "execution_count": 6,
     "data": {
      "application/vnd.deepnote.dataframe.v2+json": {
       "row_count": 10,
       "column_count": 14,
       "columns": [
        {
         "name": "alcohol",
         "dtype": "float64",
         "stats": {
          "unique_count": 10,
          "nan_count": 0,
          "min": "13.16",
          "max": "14.83",
          "histogram": [
           {
            "bin_start": 13.16,
            "bin_end": 13.327,
            "count": 3
           },
           {
            "bin_start": 13.327,
            "bin_end": 13.494,
            "count": 0
           },
           {
            "bin_start": 13.494,
            "bin_end": 13.661,
            "count": 0
           },
           {
            "bin_start": 13.661,
            "bin_end": 13.828,
            "count": 0
           },
           {
            "bin_start": 13.828,
            "bin_end": 13.995000000000001,
            "count": 1
           },
           {
            "bin_start": 13.995000000000001,
            "bin_end": 14.161999999999999,
            "count": 1
           },
           {
            "bin_start": 14.161999999999999,
            "bin_end": 14.329,
            "count": 2
           },
           {
            "bin_start": 14.329,
            "bin_end": 14.496,
            "count": 2
           },
           {
            "bin_start": 14.496,
            "bin_end": 14.663,
            "count": 0
           },
           {
            "bin_start": 14.663,
            "bin_end": 14.83,
            "count": 1
           }
          ]
         }
        },
        {
         "name": "malic_acid",
         "dtype": "float64",
         "stats": {
          "unique_count": 10,
          "nan_count": 0,
          "min": "1.35",
          "max": "2.59",
          "histogram": [
           {
            "bin_start": 1.35,
            "bin_end": 1.474,
            "count": 1
           },
           {
            "bin_start": 1.474,
            "bin_end": 1.598,
            "count": 0
           },
           {
            "bin_start": 1.598,
            "bin_end": 1.722,
            "count": 2
           },
           {
            "bin_start": 1.722,
            "bin_end": 1.846,
            "count": 2
           },
           {
            "bin_start": 1.846,
            "bin_end": 1.97,
            "count": 2
           },
           {
            "bin_start": 1.97,
            "bin_end": 2.094,
            "count": 0
           },
           {
            "bin_start": 2.094,
            "bin_end": 2.218,
            "count": 1
           },
           {
            "bin_start": 2.218,
            "bin_end": 2.3419999999999996,
            "count": 0
           },
           {
            "bin_start": 2.3419999999999996,
            "bin_end": 2.4659999999999997,
            "count": 1
           },
           {
            "bin_start": 2.4659999999999997,
            "bin_end": 2.59,
            "count": 1
           }
          ]
         }
        },
        {
         "name": "ash",
         "dtype": "float64",
         "stats": {
          "unique_count": 9,
          "nan_count": 0,
          "min": "2.14",
          "max": "2.87",
          "histogram": [
           {
            "bin_start": 2.14,
            "bin_end": 2.213,
            "count": 2
           },
           {
            "bin_start": 2.213,
            "bin_end": 2.286,
            "count": 1
           },
           {
            "bin_start": 2.286,
            "bin_end": 2.359,
            "count": 0
           },
           {
            "bin_start": 2.359,
            "bin_end": 2.432,
            "count": 1
           },
           {
            "bin_start": 2.432,
            "bin_end": 2.505,
            "count": 3
           },
           {
            "bin_start": 2.505,
            "bin_end": 2.5780000000000003,
            "count": 0
           },
           {
            "bin_start": 2.5780000000000003,
            "bin_end": 2.6510000000000002,
            "count": 1
           },
           {
            "bin_start": 2.6510000000000002,
            "bin_end": 2.724,
            "count": 1
           },
           {
            "bin_start": 2.724,
            "bin_end": 2.797,
            "count": 0
           },
           {
            "bin_start": 2.797,
            "bin_end": 2.87,
            "count": 1
           }
          ]
         }
        },
        {
         "name": "alcalinity_of_ash",
         "dtype": "float64",
         "stats": {
          "unique_count": 10,
          "nan_count": 0,
          "min": "11.2",
          "max": "21.0",
          "histogram": [
           {
            "bin_start": 11.2,
            "bin_end": 12.18,
            "count": 1
           },
           {
            "bin_start": 12.18,
            "bin_end": 13.16,
            "count": 0
           },
           {
            "bin_start": 13.16,
            "bin_end": 14.14,
            "count": 1
           },
           {
            "bin_start": 14.14,
            "bin_end": 15.12,
            "count": 1
           },
           {
            "bin_start": 15.12,
            "bin_end": 16.1,
            "count": 3
           },
           {
            "bin_start": 16.1,
            "bin_end": 17.08,
            "count": 1
           },
           {
            "bin_start": 17.08,
            "bin_end": 18.06,
            "count": 1
           },
           {
            "bin_start": 18.06,
            "bin_end": 19.04,
            "count": 1
           },
           {
            "bin_start": 19.04,
            "bin_end": 20.02,
            "count": 0
           },
           {
            "bin_start": 20.02,
            "bin_end": 21,
            "count": 1
           }
          ]
         }
        },
        {
         "name": "magnesium",
         "dtype": "float64",
         "stats": {
          "unique_count": 10,
          "nan_count": 0,
          "min": "96.0",
          "max": "127.0",
          "histogram": [
           {
            "bin_start": 96,
            "bin_end": 99.1,
            "count": 3
           },
           {
            "bin_start": 99.1,
            "bin_end": 102.2,
            "count": 2
           },
           {
            "bin_start": 102.2,
            "bin_end": 105.3,
            "count": 0
           },
           {
            "bin_start": 105.3,
            "bin_end": 108.4,
            "count": 0
           },
           {
            "bin_start": 108.4,
            "bin_end": 111.5,
            "count": 0
           },
           {
            "bin_start": 111.5,
            "bin_end": 114.6,
            "count": 2
           },
           {
            "bin_start": 114.6,
            "bin_end": 117.7,
            "count": 0
           },
           {
            "bin_start": 117.7,
            "bin_end": 120.8,
            "count": 1
           },
           {
            "bin_start": 120.8,
            "bin_end": 123.9,
            "count": 1
           },
           {
            "bin_start": 123.9,
            "bin_end": 127,
            "count": 1
           }
          ]
         }
        },
        {
         "name": "total_phenols",
         "dtype": "float64",
         "stats": {
          "unique_count": 7,
          "nan_count": 0,
          "min": "2.5",
          "max": "3.85",
          "histogram": [
           {
            "bin_start": 2.5,
            "bin_end": 2.635,
            "count": 2
           },
           {
            "bin_start": 2.635,
            "bin_end": 2.77,
            "count": 1
           },
           {
            "bin_start": 2.77,
            "bin_end": 2.9050000000000002,
            "count": 4
           },
           {
            "bin_start": 2.9050000000000002,
            "bin_end": 3.04,
            "count": 1
           },
           {
            "bin_start": 3.04,
            "bin_end": 3.175,
            "count": 0
           },
           {
            "bin_start": 3.175,
            "bin_end": 3.31,
            "count": 1
           },
           {
            "bin_start": 3.31,
            "bin_end": 3.4450000000000003,
            "count": 0
           },
           {
            "bin_start": 3.4450000000000003,
            "bin_end": 3.58,
            "count": 0
           },
           {
            "bin_start": 3.58,
            "bin_end": 3.715,
            "count": 0
           },
           {
            "bin_start": 3.715,
            "bin_end": 3.85,
            "count": 1
           }
          ]
         }
        },
        {
         "name": "flavanoids",
         "dtype": "float64",
         "stats": {
          "unique_count": 10,
          "nan_count": 0,
          "min": "2.51",
          "max": "3.49",
          "histogram": [
           {
            "bin_start": 2.51,
            "bin_end": 2.6079999999999997,
            "count": 2
           },
           {
            "bin_start": 2.6079999999999997,
            "bin_end": 2.706,
            "count": 1
           },
           {
            "bin_start": 2.706,
            "bin_end": 2.804,
            "count": 1
           },
           {
            "bin_start": 2.804,
            "bin_end": 2.902,
            "count": 0
           },
           {
            "bin_start": 2.902,
            "bin_end": 3,
            "count": 1
           },
           {
            "bin_start": 3,
            "bin_end": 3.098,
            "count": 1
           },
           {
            "bin_start": 3.098,
            "bin_end": 3.196,
            "count": 1
           },
           {
            "bin_start": 3.196,
            "bin_end": 3.294,
            "count": 1
           },
           {
            "bin_start": 3.294,
            "bin_end": 3.3920000000000003,
            "count": 1
           },
           {
            "bin_start": 3.3920000000000003,
            "bin_end": 3.49,
            "count": 1
           }
          ]
         }
        },
        {
         "name": "nonflavanoid_phenols",
         "dtype": "float64",
         "stats": {
          "unique_count": 9,
          "nan_count": 0,
          "min": "0.22",
          "max": "0.39",
          "histogram": [
           {
            "bin_start": 0.22,
            "bin_end": 0.237,
            "count": 1
           },
           {
            "bin_start": 0.237,
            "bin_end": 0.254,
            "count": 1
           },
           {
            "bin_start": 0.254,
            "bin_end": 0.271,
            "count": 1
           },
           {
            "bin_start": 0.271,
            "bin_end": 0.28800000000000003,
            "count": 1
           },
           {
            "bin_start": 0.28800000000000003,
            "bin_end": 0.305,
            "count": 3
           },
           {
            "bin_start": 0.305,
            "bin_end": 0.322,
            "count": 1
           },
           {
            "bin_start": 0.322,
            "bin_end": 0.339,
            "count": 0
           },
           {
            "bin_start": 0.339,
            "bin_end": 0.356,
            "count": 1
           },
           {
            "bin_start": 0.356,
            "bin_end": 0.373,
            "count": 0
           },
           {
            "bin_start": 0.373,
            "bin_end": 0.39,
            "count": 1
           }
          ]
         }
        },
        {
         "name": "proanthocyanins",
         "dtype": "float64",
         "stats": {
          "unique_count": 9,
          "nan_count": 0,
          "min": "1.25",
          "max": "2.81",
          "histogram": [
           {
            "bin_start": 1.25,
            "bin_end": 1.406,
            "count": 2
           },
           {
            "bin_start": 1.406,
            "bin_end": 1.562,
            "count": 0
           },
           {
            "bin_start": 1.562,
            "bin_end": 1.718,
            "count": 0
           },
           {
            "bin_start": 1.718,
            "bin_end": 1.874,
            "count": 2
           },
           {
            "bin_start": 1.874,
            "bin_end": 2.0300000000000002,
            "count": 3
           },
           {
            "bin_start": 2.0300000000000002,
            "bin_end": 2.186,
            "count": 1
           },
           {
            "bin_start": 2.186,
            "bin_end": 2.342,
            "count": 1
           },
           {
            "bin_start": 2.342,
            "bin_end": 2.498,
            "count": 0
           },
           {
            "bin_start": 2.498,
            "bin_end": 2.654,
            "count": 0
           },
           {
            "bin_start": 2.654,
            "bin_end": 2.81,
            "count": 1
           }
          ]
         }
        },
        {
         "name": "color_intensity",
         "dtype": "float64",
         "stats": {
          "unique_count": 10,
          "nan_count": 0,
          "min": "4.32",
          "max": "7.8",
          "histogram": [
           {
            "bin_start": 4.32,
            "bin_end": 4.668,
            "count": 2
           },
           {
            "bin_start": 4.668,
            "bin_end": 5.016,
            "count": 0
           },
           {
            "bin_start": 5.016,
            "bin_end": 5.364000000000001,
            "count": 3
           },
           {
            "bin_start": 5.364000000000001,
            "bin_end": 5.712,
            "count": 2
           },
           {
            "bin_start": 5.712,
            "bin_end": 6.0600000000000005,
            "count": 0
           },
           {
            "bin_start": 6.0600000000000005,
            "bin_end": 6.408,
            "count": 0
           },
           {
            "bin_start": 6.408,
            "bin_end": 6.756,
            "count": 1
           },
           {
            "bin_start": 6.756,
            "bin_end": 7.104,
            "count": 0
           },
           {
            "bin_start": 7.104,
            "bin_end": 7.452,
            "count": 1
           },
           {
            "bin_start": 7.452,
            "bin_end": 7.8,
            "count": 1
           }
          ]
         }
        },
        {
         "name": "hue",
         "dtype": "float64",
         "stats": {
          "unique_count": 8,
          "nan_count": 0,
          "min": "0.86",
          "max": "1.08",
          "histogram": [
           {
            "bin_start": 0.86,
            "bin_end": 0.882,
            "count": 1
           },
           {
            "bin_start": 0.882,
            "bin_end": 0.904,
            "count": 0
           },
           {
            "bin_start": 0.904,
            "bin_end": 0.926,
            "count": 0
           },
           {
            "bin_start": 0.926,
            "bin_end": 0.9480000000000001,
            "count": 0
           },
           {
            "bin_start": 0.9480000000000001,
            "bin_end": 0.97,
            "count": 0
           },
           {
            "bin_start": 0.97,
            "bin_end": 0.992,
            "count": 0
           },
           {
            "bin_start": 0.992,
            "bin_end": 1.014,
            "count": 1
           },
           {
            "bin_start": 1.014,
            "bin_end": 1.036,
            "count": 2
           },
           {
            "bin_start": 1.036,
            "bin_end": 1.058,
            "count": 4
           },
           {
            "bin_start": 1.058,
            "bin_end": 1.08,
            "count": 2
           }
          ]
         }
        },
        {
         "name": "od280/od315_of_diluted_wines",
         "dtype": "float64",
         "stats": {
          "unique_count": 8,
          "nan_count": 0,
          "min": "2.85",
          "max": "3.92",
          "histogram": [
           {
            "bin_start": 2.85,
            "bin_end": 2.957,
            "count": 3
           },
           {
            "bin_start": 2.957,
            "bin_end": 3.064,
            "count": 0
           },
           {
            "bin_start": 3.064,
            "bin_end": 3.1710000000000003,
            "count": 1
           },
           {
            "bin_start": 3.1710000000000003,
            "bin_end": 3.278,
            "count": 0
           },
           {
            "bin_start": 3.278,
            "bin_end": 3.385,
            "count": 0
           },
           {
            "bin_start": 3.385,
            "bin_end": 3.492,
            "count": 2
           },
           {
            "bin_start": 3.492,
            "bin_end": 3.599,
            "count": 3
           },
           {
            "bin_start": 3.599,
            "bin_end": 3.706,
            "count": 0
           },
           {
            "bin_start": 3.706,
            "bin_end": 3.8129999999999997,
            "count": 0
           },
           {
            "bin_start": 3.8129999999999997,
            "bin_end": 3.92,
            "count": 1
           }
          ]
         }
        },
        {
         "name": "proline",
         "dtype": "float64",
         "stats": {
          "unique_count": 9,
          "nan_count": 0,
          "min": "735.0",
          "max": "1480.0",
          "histogram": [
           {
            "bin_start": 735,
            "bin_end": 809.5,
            "count": 1
           },
           {
            "bin_start": 809.5,
            "bin_end": 884,
            "count": 0
           },
           {
            "bin_start": 884,
            "bin_end": 958.5,
            "count": 0
           },
           {
            "bin_start": 958.5,
            "bin_end": 1033,
            "count": 0
           },
           {
            "bin_start": 1033,
            "bin_end": 1107.5,
            "count": 4
           },
           {
            "bin_start": 1107.5,
            "bin_end": 1182,
            "count": 0
           },
           {
            "bin_start": 1182,
            "bin_end": 1256.5,
            "count": 1
           },
           {
            "bin_start": 1256.5,
            "bin_end": 1331,
            "count": 2
           },
           {
            "bin_start": 1331,
            "bin_end": 1405.5,
            "count": 0
           },
           {
            "bin_start": 1405.5,
            "bin_end": 1480,
            "count": 2
           }
          ]
         }
        },
        {
         "name": "target",
         "dtype": "int64",
         "stats": {
          "unique_count": 1,
          "nan_count": 0,
          "min": "0",
          "max": "0",
          "histogram": [
           {
            "bin_start": -0.5,
            "bin_end": -0.4,
            "count": 0
           },
           {
            "bin_start": -0.4,
            "bin_end": -0.3,
            "count": 0
           },
           {
            "bin_start": -0.3,
            "bin_end": -0.19999999999999996,
            "count": 0
           },
           {
            "bin_start": -0.19999999999999996,
            "bin_end": -0.09999999999999998,
            "count": 0
           },
           {
            "bin_start": -0.09999999999999998,
            "bin_end": 0,
            "count": 0
           },
           {
            "bin_start": 0,
            "bin_end": 0.10000000000000009,
            "count": 10
           },
           {
            "bin_start": 0.10000000000000009,
            "bin_end": 0.20000000000000007,
            "count": 0
           },
           {
            "bin_start": 0.20000000000000007,
            "bin_end": 0.30000000000000004,
            "count": 0
           },
           {
            "bin_start": 0.30000000000000004,
            "bin_end": 0.4,
            "count": 0
           },
           {
            "bin_start": 0.4,
            "bin_end": 0.5,
            "count": 0
           }
          ]
         }
        },
        {
         "name": "_deepnote_index_column",
         "dtype": "int64"
        }
       ],
       "rows_top": [
        {
         "alcohol": 14.23,
         "malic_acid": 1.71,
         "ash": 2.43,
         "alcalinity_of_ash": 15.6,
         "magnesium": 127,
         "total_phenols": 2.8,
         "flavanoids": 3.06,
         "nonflavanoid_phenols": 0.28,
         "proanthocyanins": 2.29,
         "color_intensity": 5.64,
         "hue": 1.04,
         "od280/od315_of_diluted_wines": 3.92,
         "proline": 1065,
         "target": 0,
         "_deepnote_index_column": 0
        },
        {
         "alcohol": 13.2,
         "malic_acid": 1.78,
         "ash": 2.14,
         "alcalinity_of_ash": 11.2,
         "magnesium": 100,
         "total_phenols": 2.65,
         "flavanoids": 2.76,
         "nonflavanoid_phenols": 0.26,
         "proanthocyanins": 1.28,
         "color_intensity": 4.38,
         "hue": 1.05,
         "od280/od315_of_diluted_wines": 3.4,
         "proline": 1050,
         "target": 0,
         "_deepnote_index_column": 1
        },
        {
         "alcohol": 13.16,
         "malic_acid": 2.36,
         "ash": 2.67,
         "alcalinity_of_ash": 18.6,
         "magnesium": 101,
         "total_phenols": 2.8,
         "flavanoids": 3.24,
         "nonflavanoid_phenols": 0.3,
         "proanthocyanins": 2.81,
         "color_intensity": 5.68,
         "hue": 1.03,
         "od280/od315_of_diluted_wines": 3.17,
         "proline": 1185,
         "target": 0,
         "_deepnote_index_column": 2
        },
        {
         "alcohol": 14.37,
         "malic_acid": 1.95,
         "ash": 2.5,
         "alcalinity_of_ash": 16.8,
         "magnesium": 113,
         "total_phenols": 3.85,
         "flavanoids": 3.49,
         "nonflavanoid_phenols": 0.24,
         "proanthocyanins": 2.18,
         "color_intensity": 7.8,
         "hue": 0.86,
         "od280/od315_of_diluted_wines": 3.45,
         "proline": 1480,
         "target": 0,
         "_deepnote_index_column": 3
        },
        {
         "alcohol": 13.24,
         "malic_acid": 2.59,
         "ash": 2.87,
         "alcalinity_of_ash": 21,
         "magnesium": 118,
         "total_phenols": 2.8,
         "flavanoids": 2.69,
         "nonflavanoid_phenols": 0.39,
         "proanthocyanins": 1.82,
         "color_intensity": 4.32,
         "hue": 1.04,
         "od280/od315_of_diluted_wines": 2.93,
         "proline": 735,
         "target": 0,
         "_deepnote_index_column": 4
        },
        {
         "alcohol": 14.2,
         "malic_acid": 1.76,
         "ash": 2.45,
         "alcalinity_of_ash": 15.2,
         "magnesium": 112,
         "total_phenols": 3.27,
         "flavanoids": 3.39,
         "nonflavanoid_phenols": 0.34,
         "proanthocyanins": 1.97,
         "color_intensity": 6.75,
         "hue": 1.05,
         "od280/od315_of_diluted_wines": 2.85,
         "proline": 1450,
         "target": 0,
         "_deepnote_index_column": 5
        },
        {
         "alcohol": 14.39,
         "malic_acid": 1.87,
         "ash": 2.45,
         "alcalinity_of_ash": 14.6,
         "magnesium": 96,
         "total_phenols": 2.5,
         "flavanoids": 2.52,
         "nonflavanoid_phenols": 0.3,
         "proanthocyanins": 1.98,
         "color_intensity": 5.25,
         "hue": 1.02,
         "od280/od315_of_diluted_wines": 3.58,
         "proline": 1290,
         "target": 0,
         "_deepnote_index_column": 6
        },
        {
         "alcohol": 14.06,
         "malic_acid": 2.15,
         "ash": 2.61,
         "alcalinity_of_ash": 17.6,
         "magnesium": 121,
         "total_phenols": 2.6,
         "flavanoids": 2.51,
         "nonflavanoid_phenols": 0.31,
         "proanthocyanins": 1.25,
         "color_intensity": 5.05,
         "hue": 1.06,
         "od280/od315_of_diluted_wines": 3.58,
         "proline": 1295,
         "target": 0,
         "_deepnote_index_column": 7
        },
        {
         "alcohol": 14.83,
         "malic_acid": 1.64,
         "ash": 2.17,
         "alcalinity_of_ash": 14,
         "magnesium": 97,
         "total_phenols": 2.8,
         "flavanoids": 2.98,
         "nonflavanoid_phenols": 0.29,
         "proanthocyanins": 1.98,
         "color_intensity": 5.2,
         "hue": 1.08,
         "od280/od315_of_diluted_wines": 2.85,
         "proline": 1045,
         "target": 0,
         "_deepnote_index_column": 8
        },
        {
         "alcohol": 13.86,
         "malic_acid": 1.35,
         "ash": 2.27,
         "alcalinity_of_ash": 16,
         "magnesium": 98,
         "total_phenols": 2.98,
         "flavanoids": 3.15,
         "nonflavanoid_phenols": 0.22,
         "proanthocyanins": 1.85,
         "color_intensity": 7.22,
         "hue": 1.01,
         "od280/od315_of_diluted_wines": 3.55,
         "proline": 1045,
         "target": 0,
         "_deepnote_index_column": 9
        }
       ],
       "rows_bottom": null
      },
      "text/plain": "   alcohol  malic_acid   ash  alcalinity_of_ash  magnesium  total_phenols  \\\n0    14.23        1.71  2.43               15.6      127.0           2.80   \n1    13.20        1.78  2.14               11.2      100.0           2.65   \n2    13.16        2.36  2.67               18.6      101.0           2.80   \n3    14.37        1.95  2.50               16.8      113.0           3.85   \n4    13.24        2.59  2.87               21.0      118.0           2.80   \n5    14.20        1.76  2.45               15.2      112.0           3.27   \n6    14.39        1.87  2.45               14.6       96.0           2.50   \n7    14.06        2.15  2.61               17.6      121.0           2.60   \n8    14.83        1.64  2.17               14.0       97.0           2.80   \n9    13.86        1.35  2.27               16.0       98.0           2.98   \n\n   flavanoids  nonflavanoid_phenols  proanthocyanins  color_intensity   hue  \\\n0        3.06                  0.28             2.29             5.64  1.04   \n1        2.76                  0.26             1.28             4.38  1.05   \n2        3.24                  0.30             2.81             5.68  1.03   \n3        3.49                  0.24             2.18             7.80  0.86   \n4        2.69                  0.39             1.82             4.32  1.04   \n5        3.39                  0.34             1.97             6.75  1.05   \n6        2.52                  0.30             1.98             5.25  1.02   \n7        2.51                  0.31             1.25             5.05  1.06   \n8        2.98                  0.29             1.98             5.20  1.08   \n9        3.15                  0.22             1.85             7.22  1.01   \n\n   od280/od315_of_diluted_wines  proline  target  \n0                          3.92   1065.0       0  \n1                          3.40   1050.0       0  \n2                          3.17   1185.0       0  \n3                          3.45   1480.0       0  \n4                          2.93    735.0       0  \n5                          2.85   1450.0       0  \n6                          3.58   1290.0       0  \n7                          3.58   1295.0       0  \n8                          2.85   1045.0       0  \n9                          3.55   1045.0       0  ",
      "text/html": "<div>\n<style scoped>\n    .dataframe tbody tr th:only-of-type {\n        vertical-align: middle;\n    }\n\n    .dataframe tbody tr th {\n        vertical-align: top;\n    }\n\n    .dataframe thead th {\n        text-align: right;\n    }\n</style>\n<table border=\"1\" class=\"dataframe\">\n  <thead>\n    <tr style=\"text-align: right;\">\n      <th></th>\n      <th>alcohol</th>\n      <th>malic_acid</th>\n      <th>ash</th>\n      <th>alcalinity_of_ash</th>\n      <th>magnesium</th>\n      <th>total_phenols</th>\n      <th>flavanoids</th>\n      <th>nonflavanoid_phenols</th>\n      <th>proanthocyanins</th>\n      <th>color_intensity</th>\n      <th>hue</th>\n      <th>od280/od315_of_diluted_wines</th>\n      <th>proline</th>\n      <th>target</th>\n    </tr>\n  </thead>\n  <tbody>\n    <tr>\n      <th>0</th>\n      <td>14.23</td>\n      <td>1.71</td>\n      <td>2.43</td>\n      <td>15.6</td>\n      <td>127.0</td>\n      <td>2.80</td>\n      <td>3.06</td>\n      <td>0.28</td>\n      <td>2.29</td>\n      <td>5.64</td>\n      <td>1.04</td>\n      <td>3.92</td>\n      <td>1065.0</td>\n      <td>0</td>\n    </tr>\n    <tr>\n      <th>1</th>\n      <td>13.20</td>\n      <td>1.78</td>\n      <td>2.14</td>\n      <td>11.2</td>\n      <td>100.0</td>\n      <td>2.65</td>\n      <td>2.76</td>\n      <td>0.26</td>\n      <td>1.28</td>\n      <td>4.38</td>\n      <td>1.05</td>\n      <td>3.40</td>\n      <td>1050.0</td>\n      <td>0</td>\n    </tr>\n    <tr>\n      <th>2</th>\n      <td>13.16</td>\n      <td>2.36</td>\n      <td>2.67</td>\n      <td>18.6</td>\n      <td>101.0</td>\n      <td>2.80</td>\n      <td>3.24</td>\n      <td>0.30</td>\n      <td>2.81</td>\n      <td>5.68</td>\n      <td>1.03</td>\n      <td>3.17</td>\n      <td>1185.0</td>\n      <td>0</td>\n    </tr>\n    <tr>\n      <th>3</th>\n      <td>14.37</td>\n      <td>1.95</td>\n      <td>2.50</td>\n      <td>16.8</td>\n      <td>113.0</td>\n      <td>3.85</td>\n      <td>3.49</td>\n      <td>0.24</td>\n      <td>2.18</td>\n      <td>7.80</td>\n      <td>0.86</td>\n      <td>3.45</td>\n      <td>1480.0</td>\n      <td>0</td>\n    </tr>\n    <tr>\n      <th>4</th>\n      <td>13.24</td>\n      <td>2.59</td>\n      <td>2.87</td>\n      <td>21.0</td>\n      <td>118.0</td>\n      <td>2.80</td>\n      <td>2.69</td>\n      <td>0.39</td>\n      <td>1.82</td>\n      <td>4.32</td>\n      <td>1.04</td>\n      <td>2.93</td>\n      <td>735.0</td>\n      <td>0</td>\n    </tr>\n    <tr>\n      <th>5</th>\n      <td>14.20</td>\n      <td>1.76</td>\n      <td>2.45</td>\n      <td>15.2</td>\n      <td>112.0</td>\n      <td>3.27</td>\n      <td>3.39</td>\n      <td>0.34</td>\n      <td>1.97</td>\n      <td>6.75</td>\n      <td>1.05</td>\n      <td>2.85</td>\n      <td>1450.0</td>\n      <td>0</td>\n    </tr>\n    <tr>\n      <th>6</th>\n      <td>14.39</td>\n      <td>1.87</td>\n      <td>2.45</td>\n      <td>14.6</td>\n      <td>96.0</td>\n      <td>2.50</td>\n      <td>2.52</td>\n      <td>0.30</td>\n      <td>1.98</td>\n      <td>5.25</td>\n      <td>1.02</td>\n      <td>3.58</td>\n      <td>1290.0</td>\n      <td>0</td>\n    </tr>\n    <tr>\n      <th>7</th>\n      <td>14.06</td>\n      <td>2.15</td>\n      <td>2.61</td>\n      <td>17.6</td>\n      <td>121.0</td>\n      <td>2.60</td>\n      <td>2.51</td>\n      <td>0.31</td>\n      <td>1.25</td>\n      <td>5.05</td>\n      <td>1.06</td>\n      <td>3.58</td>\n      <td>1295.0</td>\n      <td>0</td>\n    </tr>\n    <tr>\n      <th>8</th>\n      <td>14.83</td>\n      <td>1.64</td>\n      <td>2.17</td>\n      <td>14.0</td>\n      <td>97.0</td>\n      <td>2.80</td>\n      <td>2.98</td>\n      <td>0.29</td>\n      <td>1.98</td>\n      <td>5.20</td>\n      <td>1.08</td>\n      <td>2.85</td>\n      <td>1045.0</td>\n      <td>0</td>\n    </tr>\n    <tr>\n      <th>9</th>\n      <td>13.86</td>\n      <td>1.35</td>\n      <td>2.27</td>\n      <td>16.0</td>\n      <td>98.0</td>\n      <td>2.98</td>\n      <td>3.15</td>\n      <td>0.22</td>\n      <td>1.85</td>\n      <td>7.22</td>\n      <td>1.01</td>\n      <td>3.55</td>\n      <td>1045.0</td>\n      <td>0</td>\n    </tr>\n  </tbody>\n</table>\n</div>"
     },
     "metadata": {}
    }
   ]
  },
  {
   "cell_type": "code",
   "metadata": {
    "ExecuteTime": {
     "end_time": "2021-11-12T23:11:23.304259Z",
     "start_time": "2021-11-12T23:11:23.296809Z"
    },
    "cell_id": "00003-37bc24f0-0ae0-420f-acb6-642b601426b5",
    "deepnote_to_be_reexecuted": false,
    "source_hash": "b322cb21",
    "execution_start": 1636760203860,
    "execution_millis": 0,
    "allow_embed": true,
    "deepnote_cell_type": "code"
   },
   "source": "def get_count_above_threshold_per_col_df(threshold: str, column: str, df: pd.DataFrame):\n    return (df[column] > threshold).sum()",
   "execution_count": null,
   "outputs": []
  },
  {
   "cell_type": "code",
   "metadata": {
    "ExecuteTime": {
     "end_time": "2021-11-12T23:11:26.384349Z",
     "start_time": "2021-11-12T23:11:26.374164Z"
    },
    "cell_id": "00004-244d7dc0-daa4-4d45-ae37-4692dc4a8f18",
    "deepnote_to_be_reexecuted": false,
    "source_hash": "f640ce5a",
    "execution_start": 1636760205441,
    "execution_millis": 15,
    "allow_embed": true,
    "deepnote_cell_type": "code"
   },
   "source": "# Get number of rows above 98 in the magnesium column\nget_count_above_threshold_per_col_df(98, 'magnesium', df)",
   "execution_count": null,
   "outputs": [
    {
     "output_type": "execute_result",
     "execution_count": 17,
     "data": {
      "text/plain": "82"
     },
     "metadata": {}
    }
   ]
  },
  {
   "cell_type": "code",
   "metadata": {
    "ExecuteTime": {
     "end_time": "2021-11-12T23:11:28.718214Z",
     "start_time": "2021-11-12T23:11:28.708481Z"
    },
    "cell_id": "00005-d87026ff-31f8-449b-a8af-18a49a2afb04",
    "deepnote_to_be_reexecuted": false,
    "source_hash": "a9a3744",
    "execution_start": 1636760207572,
    "execution_millis": 8,
    "allow_embed": true,
    "deepnote_cell_type": "code"
   },
   "source": "# Get number of rows above 13 in the alcohol column\nget_count_above_threshold_per_col_df(13, 'alcohol', df)",
   "execution_count": null,
   "outputs": [
    {
     "output_type": "execute_result",
     "execution_count": 18,
     "data": {
      "text/plain": "92"
     },
     "metadata": {}
    }
   ]
  },
  {
   "cell_type": "code",
   "metadata": {
    "ExecuteTime": {
     "end_time": "2021-11-12T23:11:34.965076Z",
     "start_time": "2021-11-12T23:11:34.959485Z"
    },
    "cell_id": "00006-51c1886e-2131-49c5-b956-295c3288758e",
    "deepnote_to_be_reexecuted": false,
    "source_hash": "c5d10393",
    "execution_start": 1636760213673,
    "execution_millis": 4,
    "allow_embed": true,
    "deepnote_cell_type": "code"
   },
   "source": "from functools import partial\n\nget_count_above_threshold_per_col = partial(get_count_above_threshold_per_col_df, df=df)",
   "execution_count": null,
   "outputs": []
  },
  {
   "cell_type": "code",
   "metadata": {
    "ExecuteTime": {
     "end_time": "2021-11-12T23:11:41.789160Z",
     "start_time": "2021-11-12T23:11:41.778856Z"
    },
    "cell_id": "00007-5ef93021-09a4-4e24-9e05-19862df9da47",
    "deepnote_to_be_reexecuted": false,
    "source_hash": "87a7f7c3",
    "execution_start": 1636760217872,
    "execution_millis": 9,
    "allow_embed": "code_output",
    "deepnote_cell_type": "code"
   },
   "source": "get_count_above_threshold_per_col(13, 'alcohol')",
   "execution_count": null,
   "outputs": [
    {
     "output_type": "execute_result",
     "execution_count": 20,
     "data": {
      "text/plain": "92"
     },
     "metadata": {}
    }
   ]
  },
  {
   "cell_type": "code",
   "metadata": {
    "tags": [],
    "cell_id": "00008-d7abbd9a-28b5-488d-b0f8-8c73b200bd89",
    "deepnote_to_be_reexecuted": false,
    "source_hash": "546a5539",
    "execution_start": 1636760221517,
    "execution_millis": 103,
    "allow_embed": true,
    "deepnote_cell_type": "code"
   },
   "source": "get_count_above_threshold_per_col(13, 'magnesium')",
   "execution_count": null,
   "outputs": [
    {
     "output_type": "execute_result",
     "execution_count": 21,
     "data": {
      "text/plain": "178"
     },
     "metadata": {}
    }
   ]
  },
  {
   "cell_type": "code",
   "metadata": {
    "tags": [],
    "cell_id": "00009-14738bb8-c0a6-464b-9cc9-6fe358a123a4",
    "deepnote_to_be_reexecuted": false,
    "source_hash": "6afa7724",
    "execution_start": 1636760272922,
    "execution_millis": 1,
    "allow_embed": true,
    "deepnote_cell_type": "code"
   },
   "source": "get_count_above_threshold_magnesium = partial(get_count_above_threshold_per_col, column='magnesium')",
   "execution_count": null,
   "outputs": []
  },
  {
   "cell_type": "code",
   "metadata": {
    "tags": [],
    "cell_id": "00010-d9dd8e58-a650-4517-ad87-2a4953852533",
    "deepnote_to_be_reexecuted": false,
    "source_hash": "84202d42",
    "execution_start": 1636761816058,
    "execution_millis": 23,
    "allow_embed": true,
    "deepnote_cell_type": "code"
   },
   "source": "get_count_above_threshold_magnesium(98)",
   "execution_count": null,
   "outputs": [
    {
     "output_type": "execute_result",
     "execution_count": 29,
     "data": {
      "text/plain": "82"
     },
     "metadata": {}
    }
   ]
  },
  {
   "cell_type": "code",
   "metadata": {
    "tags": [],
    "cell_id": "00011-ec88f820-fbf6-430c-9d42-1f16ee67e90d",
    "deepnote_to_be_reexecuted": false,
    "source_hash": "6e0a591a",
    "execution_start": 1636761817037,
    "execution_millis": 38,
    "allow_embed": "code_output",
    "deepnote_cell_type": "code"
   },
   "source": "get_count_above_threshold_magnesium(5)",
   "execution_count": null,
   "outputs": [
    {
     "output_type": "execute_result",
     "execution_count": 30,
     "data": {
      "text/plain": "178"
     },
     "metadata": {}
    }
   ]
  },
  {
   "cell_type": "markdown",
   "source": "# functools.singledispatch",
   "metadata": {
    "cell_id": "00008-5f9692b8-de28-4e3f-a6a2-6fb4c0c15d19",
    "deepnote_cell_type": "markdown"
   }
  },
  {
   "cell_type": "code",
   "metadata": {
    "ExecuteTime": {
     "end_time": "2021-11-12T23:14:50.940321Z",
     "start_time": "2021-11-12T23:14:50.933146Z"
    },
    "cell_id": "00009-33c97d54-f714-4563-93d0-a726f6d9a3b9",
    "deepnote_to_be_reexecuted": false,
    "source_hash": "1c9d7872",
    "execution_start": 1636767797536,
    "execution_millis": 9,
    "allow_embed": "code_output",
    "deepnote_cell_type": "code"
   },
   "source": "data = {\"a\": [1, 2, 3], \"b\": [4, 5, 6]}\ndata2 = [{\"a\": [1, 2, 3]}, {\"b\": [4, 5, 6]}]",
   "outputs": [],
   "execution_count": null
  },
  {
   "cell_type": "code",
   "metadata": {
    "ExecuteTime": {
     "end_time": "2021-11-12T23:15:05.503720Z",
     "start_time": "2021-11-12T23:15:05.495774Z"
    },
    "cell_id": "00010-be650320-6b55-43dd-af9a-a18f4eacf845",
    "allow_embed": true,
    "deepnote_cell_type": "code"
   },
   "source": "def process_data(data):\n    if isinstance(data, dict):\n        process_dict(data)\n\n    else:\n        process_list(data)\n\n\ndef process_dict(data: dict):\n    print(\"Dict is processed\")\n\n\ndef process_list(data: list):\n    print(\"List is processed\")",
   "execution_count": null,
   "outputs": []
  },
  {
   "cell_type": "code",
   "metadata": {
    "ExecuteTime": {
     "end_time": "2021-11-12T23:19:36.971963Z",
     "start_time": "2021-11-12T23:19:36.963779Z"
    },
    "cell_id": "00011-07903296-5e50-4276-9a25-1bb201ae2072",
    "allow_embed": "code_output",
    "deepnote_to_be_reexecuted": false,
    "source_hash": "ff9a12f0",
    "execution_start": 1636769116464,
    "execution_millis": 1,
    "deepnote_cell_type": "code"
   },
   "source": "from functools import singledispatch\n\n@singledispatch\ndef process_data(data):\n    raise NotImplementedError(f\"Type {type(data)} is unsupported\")\n\n\n@process_data.register\ndef process_dict(data: dict):\n    print(\"Dict is processed\")\n\n\n@process_data.register\ndef process_list(data: list):\n    print(\"List is processed\")",
   "outputs": [],
   "execution_count": null
  },
  {
   "cell_type": "code",
   "metadata": {
    "ExecuteTime": {
     "end_time": "2021-11-12T23:19:42.134874Z",
     "start_time": "2021-11-12T23:19:42.127504Z"
    },
    "cell_id": "00012-0aeab9ba-2ff5-40e1-90fb-7bd5443d0dd1",
    "deepnote_to_be_reexecuted": false,
    "source_hash": "efc0b339",
    "execution_start": 1636771200194,
    "execution_millis": 308,
    "allow_embed": "code_output",
    "deepnote_cell_type": "code"
   },
   "source": "data = {\"a\": [1, 2, 3], \"b\": [4, 5, 6]}\n\nprocess_data(data)",
   "outputs": [
    {
     "output_type": "error",
     "ename": "NameError",
     "evalue": "name 'process_data' is not defined",
     "traceback": [
      "\u001b[0;31m---------------------------------------------------------------------------\u001b[0m",
      "\u001b[0;31mNameError\u001b[0m                                 Traceback (most recent call last)",
      "\u001b[0;32m<ipython-input-1-c71804f4b889>\u001b[0m in \u001b[0;36m<module>\u001b[0;34m\u001b[0m\n\u001b[1;32m      1\u001b[0m \u001b[0mdata\u001b[0m \u001b[0;34m=\u001b[0m \u001b[0;34m{\u001b[0m\u001b[0;34m\"a\"\u001b[0m\u001b[0;34m:\u001b[0m \u001b[0;34m[\u001b[0m\u001b[0;36m1\u001b[0m\u001b[0;34m,\u001b[0m \u001b[0;36m2\u001b[0m\u001b[0;34m,\u001b[0m \u001b[0;36m3\u001b[0m\u001b[0;34m]\u001b[0m\u001b[0;34m,\u001b[0m \u001b[0;34m\"b\"\u001b[0m\u001b[0;34m:\u001b[0m \u001b[0;34m[\u001b[0m\u001b[0;36m4\u001b[0m\u001b[0;34m,\u001b[0m \u001b[0;36m5\u001b[0m\u001b[0;34m,\u001b[0m \u001b[0;36m6\u001b[0m\u001b[0;34m]\u001b[0m\u001b[0;34m}\u001b[0m\u001b[0;34m\u001b[0m\u001b[0;34m\u001b[0m\u001b[0m\n\u001b[1;32m      2\u001b[0m \u001b[0;34m\u001b[0m\u001b[0m\n\u001b[0;32m----> 3\u001b[0;31m \u001b[0mprocess_data\u001b[0m\u001b[0;34m(\u001b[0m\u001b[0mdata\u001b[0m\u001b[0;34m)\u001b[0m\u001b[0;34m\u001b[0m\u001b[0;34m\u001b[0m\u001b[0m\n\u001b[0m",
      "\u001b[0;31mNameError\u001b[0m: name 'process_data' is not defined"
     ]
    }
   ],
   "execution_count": null
  },
  {
   "cell_type": "code",
   "metadata": {
    "ExecuteTime": {
     "end_time": "2021-11-12T23:19:46.238261Z",
     "start_time": "2021-11-12T23:19:46.230540Z"
    },
    "cell_id": "00013-723876f1-7291-4c3a-974f-ece956899c78",
    "deepnote_to_be_reexecuted": false,
    "source_hash": "7ed58ccc",
    "execution_start": 1636769123039,
    "execution_millis": 16,
    "allow_embed": "code_output",
    "deepnote_cell_type": "code"
   },
   "source": "data2 = [{\"a\": [1, 2, 3]}, {\"b\": [4, 5, 6]}]\n\nprocess_data(data2)",
   "outputs": [
    {
     "name": "stdout",
     "text": "List is processed\n",
     "output_type": "stream"
    }
   ],
   "execution_count": null
  },
  {
   "cell_type": "code",
   "metadata": {
    "cell_id": "00014-3975e500-0e52-45c0-8b88-cdd60e5d40c9",
    "deepnote_to_be_reexecuted": false,
    "source_hash": "42633df8",
    "execution_start": 1636769126348,
    "execution_millis": 19,
    "allow_embed": true,
    "deepnote_cell_type": "code"
   },
   "source": "process_data('hello')",
   "outputs": [
    {
     "output_type": "error",
     "ename": "NotImplementedError",
     "evalue": "Type <class 'str'> is unsupported",
     "traceback": [
      "\u001b[0;31m---------------------------------------------------------------------------\u001b[0m",
      "\u001b[0;31mNotImplementedError\u001b[0m                       Traceback (most recent call last)",
      "\u001b[0;32m<ipython-input-7-237bfbf6a325>\u001b[0m in \u001b[0;36m<module>\u001b[0;34m\u001b[0m\n\u001b[0;32m----> 1\u001b[0;31m \u001b[0mprocess_data\u001b[0m\u001b[0;34m(\u001b[0m\u001b[0;34m'hello'\u001b[0m\u001b[0;34m)\u001b[0m\u001b[0;34m\u001b[0m\u001b[0;34m\u001b[0m\u001b[0m\n\u001b[0m",
      "\u001b[0;32m/usr/local/lib/python3.7/functools.py\u001b[0m in \u001b[0;36mwrapper\u001b[0;34m(*args, **kw)\u001b[0m\n\u001b[1;32m    838\u001b[0m                             '1 positional argument')\n\u001b[1;32m    839\u001b[0m \u001b[0;34m\u001b[0m\u001b[0m\n\u001b[0;32m--> 840\u001b[0;31m         \u001b[0;32mreturn\u001b[0m \u001b[0mdispatch\u001b[0m\u001b[0;34m(\u001b[0m\u001b[0margs\u001b[0m\u001b[0;34m[\u001b[0m\u001b[0;36m0\u001b[0m\u001b[0;34m]\u001b[0m\u001b[0;34m.\u001b[0m\u001b[0m__class__\u001b[0m\u001b[0;34m)\u001b[0m\u001b[0;34m(\u001b[0m\u001b[0;34m*\u001b[0m\u001b[0margs\u001b[0m\u001b[0;34m,\u001b[0m \u001b[0;34m**\u001b[0m\u001b[0mkw\u001b[0m\u001b[0;34m)\u001b[0m\u001b[0;34m\u001b[0m\u001b[0;34m\u001b[0m\u001b[0m\n\u001b[0m\u001b[1;32m    841\u001b[0m \u001b[0;34m\u001b[0m\u001b[0m\n\u001b[1;32m    842\u001b[0m     \u001b[0mfuncname\u001b[0m \u001b[0;34m=\u001b[0m \u001b[0mgetattr\u001b[0m\u001b[0;34m(\u001b[0m\u001b[0mfunc\u001b[0m\u001b[0;34m,\u001b[0m \u001b[0;34m'__name__'\u001b[0m\u001b[0;34m,\u001b[0m \u001b[0;34m'singledispatch function'\u001b[0m\u001b[0;34m)\u001b[0m\u001b[0;34m\u001b[0m\u001b[0;34m\u001b[0m\u001b[0m\n",
      "\u001b[0;32m<ipython-input-4-fa9b9e9265c4>\u001b[0m in \u001b[0;36mprocess_data\u001b[0;34m(data)\u001b[0m\n\u001b[1;32m      3\u001b[0m \u001b[0;34m@\u001b[0m\u001b[0msingledispatch\u001b[0m\u001b[0;34m\u001b[0m\u001b[0;34m\u001b[0m\u001b[0m\n\u001b[1;32m      4\u001b[0m \u001b[0;32mdef\u001b[0m \u001b[0mprocess_data\u001b[0m\u001b[0;34m(\u001b[0m\u001b[0mdata\u001b[0m\u001b[0;34m)\u001b[0m\u001b[0;34m:\u001b[0m\u001b[0;34m\u001b[0m\u001b[0;34m\u001b[0m\u001b[0m\n\u001b[0;32m----> 5\u001b[0;31m     \u001b[0;32mraise\u001b[0m \u001b[0mNotImplementedError\u001b[0m\u001b[0;34m(\u001b[0m\u001b[0;34mf\"Type {type(data)} is unsupported\"\u001b[0m\u001b[0;34m)\u001b[0m\u001b[0;34m\u001b[0m\u001b[0;34m\u001b[0m\u001b[0m\n\u001b[0m\u001b[1;32m      6\u001b[0m \u001b[0;34m\u001b[0m\u001b[0m\n\u001b[1;32m      7\u001b[0m \u001b[0;34m\u001b[0m\u001b[0m\n",
      "\u001b[0;31mNotImplementedError\u001b[0m: Type <class 'str'> is unsupported"
     ]
    }
   ],
   "execution_count": null
  },
  {
   "cell_type": "markdown",
   "source": "<a style='text-decoration:none;line-height:16px;display:flex;color:#5B5B62;padding:10px;justify-content:end;' href='https://deepnote.com?utm_source=created-in-deepnote-cell&projectId=87197226-98be-42b2-8527-389082831299' target=\"_blank\">\n<img alt='Created in deepnote.com' style='display:inline;max-height:16px;margin:0px;margin-right:7.5px;' src='data:image/svg+xml;base64,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' > </img>\nCreated in <span style='font-weight:600;margin-left:4px;'>Deepnote</span></a>",
   "metadata": {
    "tags": [],
    "created_in_deepnote_cell": true,
    "deepnote_cell_type": "markdown"
   }
  }
 ],
 "nbformat": 4,
 "nbformat_minor": 5,
 "metadata": {
  "kernelspec": {
   "display_name": "Python 3 (ipykernel)",
   "language": "python",
   "name": "python3"
  },
  "language_info": {
   "codemirror_mode": {
    "name": "ipython",
    "version": 3
   },
   "file_extension": ".py",
   "mimetype": "text/x-python",
   "name": "python",
   "nbconvert_exporter": "python",
   "pygments_lexer": "ipython3",
   "version": "3.8.10"
  },
  "toc": {
   "base_numbering": 1,
   "nav_menu": {},
   "number_sections": true,
   "sideBar": true,
   "skip_h1_title": false,
   "title_cell": "Table of Contents",
   "title_sidebar": "Contents",
   "toc_cell": false,
   "toc_position": {},
   "toc_section_display": true,
   "toc_window_display": false
  },
  "deepnote_notebook_id": "1feaac36-bf5e-4524-910f-26219867e5d8",
  "deepnote": {},
  "deepnote_execution_queue": []
 }
}